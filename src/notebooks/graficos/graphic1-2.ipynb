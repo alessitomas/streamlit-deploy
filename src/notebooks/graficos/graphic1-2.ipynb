{
 "cells": [
  {
   "cell_type": "code",
   "execution_count": 2,
   "metadata": {},
   "outputs": [],
   "source": [
    "import pandas as pd\n",
    "import numpy as np\n",
    "from sklearn.model_selection import train_test_split\n",
    "from sklearn.metrics import accuracy_score\n",
    "from datetime import datetime"
   ]
  },
  {
   "cell_type": "code",
   "execution_count": 4,
   "metadata": {},
   "outputs": [],
   "source": [
    "data = pd.read_csv(\"../notebooks/data/data_original.csv\")"
   ]
  },
  {
   "cell_type": "code",
   "execution_count": 3,
   "metadata": {},
   "outputs": [
    {
     "data": {
      "text/html": [
       "<div>\n",
       "<style scoped>\n",
       "    .dataframe tbody tr th:only-of-type {\n",
       "        vertical-align: middle;\n",
       "    }\n",
       "\n",
       "    .dataframe tbody tr th {\n",
       "        vertical-align: top;\n",
       "    }\n",
       "\n",
       "    .dataframe thead th {\n",
       "        text-align: right;\n",
       "    }\n",
       "</style>\n",
       "<table border=\"1\" class=\"dataframe\">\n",
       "  <thead>\n",
       "    <tr style=\"text-align: right;\">\n",
       "      <th></th>\n",
       "      <th>PESSOA_PIPEDRIVE_id_person</th>\n",
       "      <th>PESSOA_PIPEDRIVE_id_gender</th>\n",
       "      <th>PESSOA_PIPEDRIVE_id_marrital_status</th>\n",
       "      <th>PESSOA_PIPEDRIVE_state</th>\n",
       "      <th>PESSOA_PIPEDRIVE_city</th>\n",
       "      <th>PESSOA_PIPEDRIVE_postal_code</th>\n",
       "      <th>PESSOA_PIPEDRIVE_contract_start_date</th>\n",
       "      <th>PESSOA_PIPEDRIVE_contract_end_date</th>\n",
       "      <th>PESSOA_PIPEDRIVE_Canal de Preferência</th>\n",
       "      <th>PESSOA_PIPEDRIVE_notes_count</th>\n",
       "      <th>...</th>\n",
       "      <th>PESSOA_PIPEDRIVE_has_notes</th>\n",
       "      <th>ATENDIMENTOS_AGENDA_Datas Psicoterapia Recente</th>\n",
       "      <th>WHOQOL_Físico_New</th>\n",
       "      <th>WHOQOL_Psicológico_New</th>\n",
       "      <th>WHOQOL_Social_New</th>\n",
       "      <th>WHOQOL_Ambiental_New</th>\n",
       "      <th>COMUNICARE_Problemas Abertos Bool</th>\n",
       "      <th>TWILIO_Data Última Mensagens Inbound Recente</th>\n",
       "      <th>TWILIO_Data Última Mensagens Outbound Recente</th>\n",
       "      <th>TWILIO_Data Última Ligações Outbound Recente</th>\n",
       "    </tr>\n",
       "  </thead>\n",
       "  <tbody>\n",
       "    <tr>\n",
       "      <th>0</th>\n",
       "      <td>483</td>\n",
       "      <td>64</td>\n",
       "      <td>80</td>\n",
       "      <td>Minas Gerais</td>\n",
       "      <td>Juiz de Fora</td>\n",
       "      <td>36021-600</td>\n",
       "      <td>2021-01-27</td>\n",
       "      <td>2023-08-26</td>\n",
       "      <td>0</td>\n",
       "      <td>3</td>\n",
       "      <td>...</td>\n",
       "      <td>1</td>\n",
       "      <td>False</td>\n",
       "      <td>4.0</td>\n",
       "      <td>4.0</td>\n",
       "      <td>4.0</td>\n",
       "      <td>4.5</td>\n",
       "      <td>0</td>\n",
       "      <td>False</td>\n",
       "      <td>True</td>\n",
       "      <td>True</td>\n",
       "    </tr>\n",
       "    <tr>\n",
       "      <th>1</th>\n",
       "      <td>654</td>\n",
       "      <td>64</td>\n",
       "      <td>82</td>\n",
       "      <td>Rio de Janeiro</td>\n",
       "      <td>Rio de Janeiro</td>\n",
       "      <td>20710-060</td>\n",
       "      <td>2021-04-25</td>\n",
       "      <td>2023-08-02</td>\n",
       "      <td>0</td>\n",
       "      <td>5</td>\n",
       "      <td>...</td>\n",
       "      <td>1</td>\n",
       "      <td>False</td>\n",
       "      <td>3.7</td>\n",
       "      <td>3.2</td>\n",
       "      <td>2.7</td>\n",
       "      <td>3.1</td>\n",
       "      <td>1</td>\n",
       "      <td>True</td>\n",
       "      <td>False</td>\n",
       "      <td>False</td>\n",
       "    </tr>\n",
       "    <tr>\n",
       "      <th>2</th>\n",
       "      <td>860</td>\n",
       "      <td>63</td>\n",
       "      <td>80</td>\n",
       "      <td>Paraná</td>\n",
       "      <td>Londrina</td>\n",
       "      <td>86020-410</td>\n",
       "      <td>2022-06-21</td>\n",
       "      <td>2023-09-20</td>\n",
       "      <td>239</td>\n",
       "      <td>3</td>\n",
       "      <td>...</td>\n",
       "      <td>1</td>\n",
       "      <td>False</td>\n",
       "      <td>3.0</td>\n",
       "      <td>3.0</td>\n",
       "      <td>4.0</td>\n",
       "      <td>4.0</td>\n",
       "      <td>1</td>\n",
       "      <td>True</td>\n",
       "      <td>True</td>\n",
       "      <td>False</td>\n",
       "    </tr>\n",
       "    <tr>\n",
       "      <th>3</th>\n",
       "      <td>961</td>\n",
       "      <td>63</td>\n",
       "      <td>80</td>\n",
       "      <td>Santa Catarina</td>\n",
       "      <td>Florianópolis</td>\n",
       "      <td>88080-080</td>\n",
       "      <td>2021-07-05</td>\n",
       "      <td>2021-10-01</td>\n",
       "      <td>0</td>\n",
       "      <td>1</td>\n",
       "      <td>...</td>\n",
       "      <td>1</td>\n",
       "      <td>False</td>\n",
       "      <td>2.0</td>\n",
       "      <td>3.0</td>\n",
       "      <td>3.0</td>\n",
       "      <td>3.0</td>\n",
       "      <td>0</td>\n",
       "      <td>False</td>\n",
       "      <td>False</td>\n",
       "      <td>False</td>\n",
       "    </tr>\n",
       "    <tr>\n",
       "      <th>4</th>\n",
       "      <td>972</td>\n",
       "      <td>63</td>\n",
       "      <td>82</td>\n",
       "      <td>Minas Gerais</td>\n",
       "      <td>Uberlândia</td>\n",
       "      <td>38400-438</td>\n",
       "      <td>2021-06-28</td>\n",
       "      <td>2023-09-16</td>\n",
       "      <td>0</td>\n",
       "      <td>2</td>\n",
       "      <td>...</td>\n",
       "      <td>1</td>\n",
       "      <td>False</td>\n",
       "      <td>3.9</td>\n",
       "      <td>3.8</td>\n",
       "      <td>4.3</td>\n",
       "      <td>4.1</td>\n",
       "      <td>1</td>\n",
       "      <td>True</td>\n",
       "      <td>True</td>\n",
       "      <td>False</td>\n",
       "    </tr>\n",
       "  </tbody>\n",
       "</table>\n",
       "<p>5 rows × 58 columns</p>\n",
       "</div>"
      ],
      "text/plain": [
       "   PESSOA_PIPEDRIVE_id_person  PESSOA_PIPEDRIVE_id_gender  \\\n",
       "0                         483                          64   \n",
       "1                         654                          64   \n",
       "2                         860                          63   \n",
       "3                         961                          63   \n",
       "4                         972                          63   \n",
       "\n",
       "   PESSOA_PIPEDRIVE_id_marrital_status PESSOA_PIPEDRIVE_state  \\\n",
       "0                                   80           Minas Gerais   \n",
       "1                                   82         Rio de Janeiro   \n",
       "2                                   80                 Paraná   \n",
       "3                                   80         Santa Catarina   \n",
       "4                                   82           Minas Gerais   \n",
       "\n",
       "  PESSOA_PIPEDRIVE_city PESSOA_PIPEDRIVE_postal_code  \\\n",
       "0          Juiz de Fora                    36021-600   \n",
       "1        Rio de Janeiro                    20710-060   \n",
       "2              Londrina                    86020-410   \n",
       "3         Florianópolis                    88080-080   \n",
       "4            Uberlândia                    38400-438   \n",
       "\n",
       "  PESSOA_PIPEDRIVE_contract_start_date PESSOA_PIPEDRIVE_contract_end_date  \\\n",
       "0                           2021-01-27                         2023-08-26   \n",
       "1                           2021-04-25                         2023-08-02   \n",
       "2                           2022-06-21                         2023-09-20   \n",
       "3                           2021-07-05                         2021-10-01   \n",
       "4                           2021-06-28                         2023-09-16   \n",
       "\n",
       "   PESSOA_PIPEDRIVE_Canal de Preferência  PESSOA_PIPEDRIVE_notes_count  ...  \\\n",
       "0                                      0                             3  ...   \n",
       "1                                      0                             5  ...   \n",
       "2                                    239                             3  ...   \n",
       "3                                      0                             1  ...   \n",
       "4                                      0                             2  ...   \n",
       "\n",
       "   PESSOA_PIPEDRIVE_has_notes  ATENDIMENTOS_AGENDA_Datas Psicoterapia Recente  \\\n",
       "0                           1                                           False   \n",
       "1                           1                                           False   \n",
       "2                           1                                           False   \n",
       "3                           1                                           False   \n",
       "4                           1                                           False   \n",
       "\n",
       "   WHOQOL_Físico_New WHOQOL_Psicológico_New WHOQOL_Social_New  \\\n",
       "0                4.0                    4.0               4.0   \n",
       "1                3.7                    3.2               2.7   \n",
       "2                3.0                    3.0               4.0   \n",
       "3                2.0                    3.0               3.0   \n",
       "4                3.9                    3.8               4.3   \n",
       "\n",
       "  WHOQOL_Ambiental_New COMUNICARE_Problemas Abertos Bool  \\\n",
       "0                  4.5                                 0   \n",
       "1                  3.1                                 1   \n",
       "2                  4.0                                 1   \n",
       "3                  3.0                                 0   \n",
       "4                  4.1                                 1   \n",
       "\n",
       "  TWILIO_Data Última Mensagens Inbound Recente  \\\n",
       "0                                        False   \n",
       "1                                         True   \n",
       "2                                         True   \n",
       "3                                        False   \n",
       "4                                         True   \n",
       "\n",
       "  TWILIO_Data Última Mensagens Outbound Recente  \\\n",
       "0                                          True   \n",
       "1                                         False   \n",
       "2                                          True   \n",
       "3                                         False   \n",
       "4                                          True   \n",
       "\n",
       "   TWILIO_Data Última Ligações Outbound Recente  \n",
       "0                                          True  \n",
       "1                                         False  \n",
       "2                                         False  \n",
       "3                                         False  \n",
       "4                                         False  \n",
       "\n",
       "[5 rows x 58 columns]"
      ]
     },
     "execution_count": 3,
     "metadata": {},
     "output_type": "execute_result"
    }
   ],
   "source": [
    "data.head()"
   ]
  },
  {
   "cell_type": "code",
   "execution_count": 4,
   "metadata": {},
   "outputs": [
    {
     "data": {
      "text/plain": [
       "Index(['PESSOA_PIPEDRIVE_id_person', 'PESSOA_PIPEDRIVE_id_gender',\n",
       "       'PESSOA_PIPEDRIVE_id_marrital_status', 'PESSOA_PIPEDRIVE_state',\n",
       "       'PESSOA_PIPEDRIVE_city', 'PESSOA_PIPEDRIVE_postal_code',\n",
       "       'PESSOA_PIPEDRIVE_contract_start_date',\n",
       "       'PESSOA_PIPEDRIVE_contract_end_date',\n",
       "       'PESSOA_PIPEDRIVE_Canal de Preferência', 'PESSOA_PIPEDRIVE_notes_count',\n",
       "       'PESSOA_PIPEDRIVE_done_activities_count',\n",
       "       'FUNIL_ASSINATURA_PIPEDRIVE_id_stage',\n",
       "       'FUNIL_ASSINATURA_PIPEDRIVE_id_org',\n",
       "       'FUNIL_ASSINATURA_PIPEDRIVE_status',\n",
       "       'FUNIL_ASSINATURA_PIPEDRIVE_start_of_service',\n",
       "       'FUNIL_ASSINATURA_PIPEDRIVE_lost_time',\n",
       "       'FUNIL_ASSINATURA_PIPEDRIVE_lost_reason',\n",
       "       'FUNIL_ONBOARDING_PIPEDRIVE_add_time',\n",
       "       'FUNIL_ONBOARDING_PIPEDRIVE_status',\n",
       "       'FUNIL_ONBOARDING_PIPEDRIVE_stay_in_pipeline_stages_welcome',\n",
       "       'FUNIL_ONBOARDING_PIPEDRIVE_stay_in_pipeline_stages_first_meeting',\n",
       "       'FUNIL_ONBOARDING_PIPEDRIVE_stay_in_pipeline_stages_whoqol',\n",
       "       'FUNIL_ONBOARDING_PIPEDRIVE_won_time',\n",
       "       'FUNIL_ONBOARDING_PIPEDRIVE_lost_time',\n",
       "       'FUNIL_ONBOARDING_PIPEDRIVE_lost_reason',\n",
       "       'FUNIL_ONBOARDING_PIPEDRIVE_activities_count', 'Qde Todos Atendimentos',\n",
       "       'ATENDIMENTOS_AGENDA_Faltas Todos Atendimento',\n",
       "       'ATENDIMENTOS_AGENDA_Cancelamentos Todos Atendimento',\n",
       "       'ATENDIMENTOS_AGENDA_Qde Atendimento Médico',\n",
       "       'ATENDIMENTOS_AGENDA_Faltas Atendimento Médico',\n",
       "       'ATENDIMENTOS_AGENDA_Cancelamentos Atendimento Médico',\n",
       "       'ATENDIMENTOS_AGENDA_Datas Atendimento Médico',\n",
       "       'ATENDIMENTOS_AGENDA_Qde Atendimentos Acolhimento',\n",
       "       'ATENDIMENTOS_AGENDA_Faltas Acolhimento',\n",
       "       'ATENDIMENTOS_AGENDA_Cancelamentos Acolhimento',\n",
       "       'ATENDIMENTOS_AGENDA_Datas Acolhimento',\n",
       "       'ATENDIMENTOS_AGENDA_Qde Psicoterapia',\n",
       "       'ATENDIMENTOS_AGENDA_Cancelamentos Psicoterapia',\n",
       "       'ATENDIMENTOS_AGENDA_Qde Prescrições',\n",
       "       'ATENDIMENTOS_AGENDA_Datas Prescrição', 'TWILIO_Mensagens Inbound',\n",
       "       'TWILIO_Mensagens Outbound', 'TWILIO_Ligações Outbound',\n",
       "       'PESSOA_PIPEDRIVE_age', 'PESSOA_PIPEDRIVE_has_public_health_plan',\n",
       "       'PESSOA_PIPEDRIVE_tem_data_dataframe_de_termino_de_contrato',\n",
       "       'PESSOA_PIPEDRIVE_Tem_Canal_de_Preferência',\n",
       "       'PESSOA_PIPEDRIVE_has_notes',\n",
       "       'ATENDIMENTOS_AGENDA_Datas Psicoterapia Recente', 'WHOQOL_Físico_New',\n",
       "       'WHOQOL_Psicológico_New', 'WHOQOL_Social_New', 'WHOQOL_Ambiental_New',\n",
       "       'COMUNICARE_Problemas Abertos Bool',\n",
       "       'TWILIO_Data Última Mensagens Inbound Recente',\n",
       "       'TWILIO_Data Última Mensagens Outbound Recente',\n",
       "       'TWILIO_Data Última Ligações Outbound Recente'],\n",
       "      dtype='object')"
      ]
     },
     "execution_count": 4,
     "metadata": {},
     "output_type": "execute_result"
    }
   ],
   "source": [
    "data.columns"
   ]
  },
  {
   "cell_type": "code",
   "execution_count": 5,
   "metadata": {},
   "outputs": [
    {
     "data": {
      "application/vnd.plotly.v1+json": {
       "config": {
        "plotlyServerURL": "https://plot.ly"
       },
       "data": [
        {
         "name": "Entradas",
         "type": "bar",
         "x": [
          "2021-01",
          "2021-04",
          "2021-06",
          "2021-07",
          "2021-08",
          "2021-09",
          "2021-10",
          "2021-11",
          "2021-12",
          "2022-01",
          "2022-02",
          "2022-03",
          "2022-04",
          "2022-05",
          "2022-06",
          "2022-07",
          "2022-08",
          "2022-09",
          "2022-10",
          "2022-11",
          "2022-12",
          "2023-01",
          "2023-02",
          "2023-03",
          "2023-04",
          "2023-05",
          "2023-06",
          "2023-07",
          "2023-08",
          "2023-09",
          "2023-10",
          "2023-11"
         ],
         "y": [
          1,
          1,
          4,
          5,
          22,
          11,
          15,
          6,
          35,
          33,
          32,
          70,
          16,
          41,
          24,
          16,
          77,
          22,
          17,
          34,
          9,
          19,
          15,
          16,
          63,
          35,
          176,
          39,
          35,
          24,
          52,
          9
         ]
        },
        {
         "name": "Saídas",
         "type": "bar",
         "x": [
          "2021-10",
          "2022-01",
          "2022-02",
          "2022-03",
          "2022-04",
          "2022-05",
          "2022-06",
          "2022-07",
          "2022-08",
          "2022-09",
          "2022-10",
          "2022-11",
          "2022-12",
          "2023-01",
          "2023-02",
          "2023-03",
          "2023-04",
          "2023-05",
          "2023-06",
          "2023-07",
          "2023-08",
          "2023-09",
          "2023-10",
          "2023-11"
         ],
         "y": [
          3,
          3,
          1,
          5,
          6,
          10,
          9,
          7,
          34,
          88,
          24,
          12,
          17,
          14,
          12,
          11,
          24,
          17,
          23,
          27,
          20,
          14,
          31,
          19
         ]
        }
       ],
       "layout": {
        "barmode": "group",
        "template": {
         "data": {
          "bar": [
           {
            "error_x": {
             "color": "#2a3f5f"
            },
            "error_y": {
             "color": "#2a3f5f"
            },
            "marker": {
             "line": {
              "color": "#E5ECF6",
              "width": 0.5
             },
             "pattern": {
              "fillmode": "overlay",
              "size": 10,
              "solidity": 0.2
             }
            },
            "type": "bar"
           }
          ],
          "barpolar": [
           {
            "marker": {
             "line": {
              "color": "#E5ECF6",
              "width": 0.5
             },
             "pattern": {
              "fillmode": "overlay",
              "size": 10,
              "solidity": 0.2
             }
            },
            "type": "barpolar"
           }
          ],
          "carpet": [
           {
            "aaxis": {
             "endlinecolor": "#2a3f5f",
             "gridcolor": "white",
             "linecolor": "white",
             "minorgridcolor": "white",
             "startlinecolor": "#2a3f5f"
            },
            "baxis": {
             "endlinecolor": "#2a3f5f",
             "gridcolor": "white",
             "linecolor": "white",
             "minorgridcolor": "white",
             "startlinecolor": "#2a3f5f"
            },
            "type": "carpet"
           }
          ],
          "choropleth": [
           {
            "colorbar": {
             "outlinewidth": 0,
             "ticks": ""
            },
            "type": "choropleth"
           }
          ],
          "contour": [
           {
            "colorbar": {
             "outlinewidth": 0,
             "ticks": ""
            },
            "colorscale": [
             [
              0,
              "#0d0887"
             ],
             [
              0.1111111111111111,
              "#46039f"
             ],
             [
              0.2222222222222222,
              "#7201a8"
             ],
             [
              0.3333333333333333,
              "#9c179e"
             ],
             [
              0.4444444444444444,
              "#bd3786"
             ],
             [
              0.5555555555555556,
              "#d8576b"
             ],
             [
              0.6666666666666666,
              "#ed7953"
             ],
             [
              0.7777777777777778,
              "#fb9f3a"
             ],
             [
              0.8888888888888888,
              "#fdca26"
             ],
             [
              1,
              "#f0f921"
             ]
            ],
            "type": "contour"
           }
          ],
          "contourcarpet": [
           {
            "colorbar": {
             "outlinewidth": 0,
             "ticks": ""
            },
            "type": "contourcarpet"
           }
          ],
          "heatmap": [
           {
            "colorbar": {
             "outlinewidth": 0,
             "ticks": ""
            },
            "colorscale": [
             [
              0,
              "#0d0887"
             ],
             [
              0.1111111111111111,
              "#46039f"
             ],
             [
              0.2222222222222222,
              "#7201a8"
             ],
             [
              0.3333333333333333,
              "#9c179e"
             ],
             [
              0.4444444444444444,
              "#bd3786"
             ],
             [
              0.5555555555555556,
              "#d8576b"
             ],
             [
              0.6666666666666666,
              "#ed7953"
             ],
             [
              0.7777777777777778,
              "#fb9f3a"
             ],
             [
              0.8888888888888888,
              "#fdca26"
             ],
             [
              1,
              "#f0f921"
             ]
            ],
            "type": "heatmap"
           }
          ],
          "heatmapgl": [
           {
            "colorbar": {
             "outlinewidth": 0,
             "ticks": ""
            },
            "colorscale": [
             [
              0,
              "#0d0887"
             ],
             [
              0.1111111111111111,
              "#46039f"
             ],
             [
              0.2222222222222222,
              "#7201a8"
             ],
             [
              0.3333333333333333,
              "#9c179e"
             ],
             [
              0.4444444444444444,
              "#bd3786"
             ],
             [
              0.5555555555555556,
              "#d8576b"
             ],
             [
              0.6666666666666666,
              "#ed7953"
             ],
             [
              0.7777777777777778,
              "#fb9f3a"
             ],
             [
              0.8888888888888888,
              "#fdca26"
             ],
             [
              1,
              "#f0f921"
             ]
            ],
            "type": "heatmapgl"
           }
          ],
          "histogram": [
           {
            "marker": {
             "pattern": {
              "fillmode": "overlay",
              "size": 10,
              "solidity": 0.2
             }
            },
            "type": "histogram"
           }
          ],
          "histogram2d": [
           {
            "colorbar": {
             "outlinewidth": 0,
             "ticks": ""
            },
            "colorscale": [
             [
              0,
              "#0d0887"
             ],
             [
              0.1111111111111111,
              "#46039f"
             ],
             [
              0.2222222222222222,
              "#7201a8"
             ],
             [
              0.3333333333333333,
              "#9c179e"
             ],
             [
              0.4444444444444444,
              "#bd3786"
             ],
             [
              0.5555555555555556,
              "#d8576b"
             ],
             [
              0.6666666666666666,
              "#ed7953"
             ],
             [
              0.7777777777777778,
              "#fb9f3a"
             ],
             [
              0.8888888888888888,
              "#fdca26"
             ],
             [
              1,
              "#f0f921"
             ]
            ],
            "type": "histogram2d"
           }
          ],
          "histogram2dcontour": [
           {
            "colorbar": {
             "outlinewidth": 0,
             "ticks": ""
            },
            "colorscale": [
             [
              0,
              "#0d0887"
             ],
             [
              0.1111111111111111,
              "#46039f"
             ],
             [
              0.2222222222222222,
              "#7201a8"
             ],
             [
              0.3333333333333333,
              "#9c179e"
             ],
             [
              0.4444444444444444,
              "#bd3786"
             ],
             [
              0.5555555555555556,
              "#d8576b"
             ],
             [
              0.6666666666666666,
              "#ed7953"
             ],
             [
              0.7777777777777778,
              "#fb9f3a"
             ],
             [
              0.8888888888888888,
              "#fdca26"
             ],
             [
              1,
              "#f0f921"
             ]
            ],
            "type": "histogram2dcontour"
           }
          ],
          "mesh3d": [
           {
            "colorbar": {
             "outlinewidth": 0,
             "ticks": ""
            },
            "type": "mesh3d"
           }
          ],
          "parcoords": [
           {
            "line": {
             "colorbar": {
              "outlinewidth": 0,
              "ticks": ""
             }
            },
            "type": "parcoords"
           }
          ],
          "pie": [
           {
            "automargin": true,
            "type": "pie"
           }
          ],
          "scatter": [
           {
            "fillpattern": {
             "fillmode": "overlay",
             "size": 10,
             "solidity": 0.2
            },
            "type": "scatter"
           }
          ],
          "scatter3d": [
           {
            "line": {
             "colorbar": {
              "outlinewidth": 0,
              "ticks": ""
             }
            },
            "marker": {
             "colorbar": {
              "outlinewidth": 0,
              "ticks": ""
             }
            },
            "type": "scatter3d"
           }
          ],
          "scattercarpet": [
           {
            "marker": {
             "colorbar": {
              "outlinewidth": 0,
              "ticks": ""
             }
            },
            "type": "scattercarpet"
           }
          ],
          "scattergeo": [
           {
            "marker": {
             "colorbar": {
              "outlinewidth": 0,
              "ticks": ""
             }
            },
            "type": "scattergeo"
           }
          ],
          "scattergl": [
           {
            "marker": {
             "colorbar": {
              "outlinewidth": 0,
              "ticks": ""
             }
            },
            "type": "scattergl"
           }
          ],
          "scattermapbox": [
           {
            "marker": {
             "colorbar": {
              "outlinewidth": 0,
              "ticks": ""
             }
            },
            "type": "scattermapbox"
           }
          ],
          "scatterpolar": [
           {
            "marker": {
             "colorbar": {
              "outlinewidth": 0,
              "ticks": ""
             }
            },
            "type": "scatterpolar"
           }
          ],
          "scatterpolargl": [
           {
            "marker": {
             "colorbar": {
              "outlinewidth": 0,
              "ticks": ""
             }
            },
            "type": "scatterpolargl"
           }
          ],
          "scatterternary": [
           {
            "marker": {
             "colorbar": {
              "outlinewidth": 0,
              "ticks": ""
             }
            },
            "type": "scatterternary"
           }
          ],
          "surface": [
           {
            "colorbar": {
             "outlinewidth": 0,
             "ticks": ""
            },
            "colorscale": [
             [
              0,
              "#0d0887"
             ],
             [
              0.1111111111111111,
              "#46039f"
             ],
             [
              0.2222222222222222,
              "#7201a8"
             ],
             [
              0.3333333333333333,
              "#9c179e"
             ],
             [
              0.4444444444444444,
              "#bd3786"
             ],
             [
              0.5555555555555556,
              "#d8576b"
             ],
             [
              0.6666666666666666,
              "#ed7953"
             ],
             [
              0.7777777777777778,
              "#fb9f3a"
             ],
             [
              0.8888888888888888,
              "#fdca26"
             ],
             [
              1,
              "#f0f921"
             ]
            ],
            "type": "surface"
           }
          ],
          "table": [
           {
            "cells": {
             "fill": {
              "color": "#EBF0F8"
             },
             "line": {
              "color": "white"
             }
            },
            "header": {
             "fill": {
              "color": "#C8D4E3"
             },
             "line": {
              "color": "white"
             }
            },
            "type": "table"
           }
          ]
         },
         "layout": {
          "annotationdefaults": {
           "arrowcolor": "#2a3f5f",
           "arrowhead": 0,
           "arrowwidth": 1
          },
          "autotypenumbers": "strict",
          "coloraxis": {
           "colorbar": {
            "outlinewidth": 0,
            "ticks": ""
           }
          },
          "colorscale": {
           "diverging": [
            [
             0,
             "#8e0152"
            ],
            [
             0.1,
             "#c51b7d"
            ],
            [
             0.2,
             "#de77ae"
            ],
            [
             0.3,
             "#f1b6da"
            ],
            [
             0.4,
             "#fde0ef"
            ],
            [
             0.5,
             "#f7f7f7"
            ],
            [
             0.6,
             "#e6f5d0"
            ],
            [
             0.7,
             "#b8e186"
            ],
            [
             0.8,
             "#7fbc41"
            ],
            [
             0.9,
             "#4d9221"
            ],
            [
             1,
             "#276419"
            ]
           ],
           "sequential": [
            [
             0,
             "#0d0887"
            ],
            [
             0.1111111111111111,
             "#46039f"
            ],
            [
             0.2222222222222222,
             "#7201a8"
            ],
            [
             0.3333333333333333,
             "#9c179e"
            ],
            [
             0.4444444444444444,
             "#bd3786"
            ],
            [
             0.5555555555555556,
             "#d8576b"
            ],
            [
             0.6666666666666666,
             "#ed7953"
            ],
            [
             0.7777777777777778,
             "#fb9f3a"
            ],
            [
             0.8888888888888888,
             "#fdca26"
            ],
            [
             1,
             "#f0f921"
            ]
           ],
           "sequentialminus": [
            [
             0,
             "#0d0887"
            ],
            [
             0.1111111111111111,
             "#46039f"
            ],
            [
             0.2222222222222222,
             "#7201a8"
            ],
            [
             0.3333333333333333,
             "#9c179e"
            ],
            [
             0.4444444444444444,
             "#bd3786"
            ],
            [
             0.5555555555555556,
             "#d8576b"
            ],
            [
             0.6666666666666666,
             "#ed7953"
            ],
            [
             0.7777777777777778,
             "#fb9f3a"
            ],
            [
             0.8888888888888888,
             "#fdca26"
            ],
            [
             1,
             "#f0f921"
            ]
           ]
          },
          "colorway": [
           "#636efa",
           "#EF553B",
           "#00cc96",
           "#ab63fa",
           "#FFA15A",
           "#19d3f3",
           "#FF6692",
           "#B6E880",
           "#FF97FF",
           "#FECB52"
          ],
          "font": {
           "color": "#2a3f5f"
          },
          "geo": {
           "bgcolor": "white",
           "lakecolor": "white",
           "landcolor": "#E5ECF6",
           "showlakes": true,
           "showland": true,
           "subunitcolor": "white"
          },
          "hoverlabel": {
           "align": "left"
          },
          "hovermode": "closest",
          "mapbox": {
           "style": "light"
          },
          "paper_bgcolor": "white",
          "plot_bgcolor": "#E5ECF6",
          "polar": {
           "angularaxis": {
            "gridcolor": "white",
            "linecolor": "white",
            "ticks": ""
           },
           "bgcolor": "#E5ECF6",
           "radialaxis": {
            "gridcolor": "white",
            "linecolor": "white",
            "ticks": ""
           }
          },
          "scene": {
           "xaxis": {
            "backgroundcolor": "#E5ECF6",
            "gridcolor": "white",
            "gridwidth": 2,
            "linecolor": "white",
            "showbackground": true,
            "ticks": "",
            "zerolinecolor": "white"
           },
           "yaxis": {
            "backgroundcolor": "#E5ECF6",
            "gridcolor": "white",
            "gridwidth": 2,
            "linecolor": "white",
            "showbackground": true,
            "ticks": "",
            "zerolinecolor": "white"
           },
           "zaxis": {
            "backgroundcolor": "#E5ECF6",
            "gridcolor": "white",
            "gridwidth": 2,
            "linecolor": "white",
            "showbackground": true,
            "ticks": "",
            "zerolinecolor": "white"
           }
          },
          "shapedefaults": {
           "line": {
            "color": "#2a3f5f"
           }
          },
          "ternary": {
           "aaxis": {
            "gridcolor": "white",
            "linecolor": "white",
            "ticks": ""
           },
           "baxis": {
            "gridcolor": "white",
            "linecolor": "white",
            "ticks": ""
           },
           "bgcolor": "#E5ECF6",
           "caxis": {
            "gridcolor": "white",
            "linecolor": "white",
            "ticks": ""
           }
          },
          "title": {
           "x": 0.05
          },
          "xaxis": {
           "automargin": true,
           "gridcolor": "white",
           "linecolor": "white",
           "ticks": "",
           "title": {
            "standoff": 15
           },
           "zerolinecolor": "white",
           "zerolinewidth": 2
          },
          "yaxis": {
           "automargin": true,
           "gridcolor": "white",
           "linecolor": "white",
           "ticks": "",
           "title": {
            "standoff": 15
           },
           "zerolinecolor": "white",
           "zerolinewidth": 2
          }
         }
        },
        "title": {
         "text": "Histograma de Entrada e Saída de Assinaturas por Mês"
        },
        "xaxis": {
         "title": {
          "text": "Ano e Mês"
         }
        },
        "yaxis": {
         "title": {
          "text": "Quantidade de Assinaturas"
         }
        }
       }
      }
     },
     "metadata": {},
     "output_type": "display_data"
    }
   ],
   "source": [
    "import plotly.graph_objects as go\n",
    "import pandas as pd\n",
    "\n",
    "# Assuming 'data' is a pandas DataFrame that you have already defined\n",
    "data['PESSOA_PIPEDRIVE_contract_start_date'] = pd.to_datetime(data['PESSOA_PIPEDRIVE_contract_start_date'])\n",
    "data['PESSOA_PIPEDRIVE_contract_end_date'] = pd.to_datetime(data['PESSOA_PIPEDRIVE_contract_end_date'])\n",
    "\n",
    "data['Start_Month_Year'] = data['PESSOA_PIPEDRIVE_contract_start_date'].dt.to_period('M')\n",
    "data['End_Month_Year'] = data['PESSOA_PIPEDRIVE_contract_end_date'].dt.to_period('M')\n",
    "\n",
    "start_counts = data['Start_Month_Year'].value_counts().sort_index()\n",
    "end_counts = data['End_Month_Year'].value_counts().sort_index()\n",
    "\n",
    "fig = go.Figure()\n",
    "fig.add_trace(go.Bar(x=start_counts.index.astype(str), y=start_counts, name='Entradas'))\n",
    "fig.add_trace(go.Bar(x=end_counts.index.astype(str), y=end_counts, name='Saídas'))\n",
    "\n",
    "fig.update_layout(\n",
    "    title='Histograma de Entrada e Saída de Assinaturas por Mês',\n",
    "    xaxis_title='Ano e Mês',\n",
    "    yaxis_title='Quantidade de Assinaturas',\n",
    "    barmode='group'\n",
    ")\n",
    "\n",
    "# Display the figure using Plotly\n",
    "fig.show()\n"
   ]
  },
  {
   "cell_type": "code",
   "execution_count": 6,
   "metadata": {},
   "outputs": [],
   "source": [
    "from geopy.geocoders import Nominatim\n",
    "\n",
    "# Criar um geolocalizador\n",
    "geolocator = Nominatim(user_agent=\"geoapiExercises\")\n",
    "# Nome da cidade\n",
    "city_name = \"São Paulo\"\n",
    "# Obter a localização da cidade\n",
    "location = geolocator.geocode(city_name)\n",
    "# Extrair latitude e longitude\n",
    "latitude = location.latitude\n",
    "longitude = location.longitude"
   ]
  },
  {
   "cell_type": "code",
   "execution_count": 7,
   "metadata": {},
   "outputs": [],
   "source": [
    "latitudes = []\n",
    "longitudes = []"
   ]
  },
  {
   "cell_type": "code",
   "execution_count": 8,
   "metadata": {},
   "outputs": [],
   "source": [
    "temp = {}"
   ]
  },
  {
   "cell_type": "code",
   "execution_count": 9,
   "metadata": {},
   "outputs": [],
   "source": [
    "for i in range(0, len(data)):\n",
    "    city = data.loc[i, 'PESSOA_PIPEDRIVE_city']\n",
    "    location = geolocator.geocode(city)\n",
    "    data.loc[i, 'latitude'] = location.latitude\n",
    "    data.loc[i, 'longitude'] = location.longitude\n",
    "    if city not in temp:\n",
    "        temp[city] = ( data[(data['PESSOA_PIPEDRIVE_city'] == city) & (data['FUNIL_ASSINATURA_PIPEDRIVE_status'] == \"lost\")].shape[0] ) / (data[data['PESSOA_PIPEDRIVE_city'] == city].shape[0])\n",
    "\n",
    "    data.loc[i, 'weight'] = temp[city]"
   ]
  },
  {
   "cell_type": "code",
   "execution_count": 10,
   "metadata": {},
   "outputs": [
    {
     "data": {
      "text/plain": [
       "FUNIL_ONBOARDING_PIPEDRIVE_status\n",
       "won     578\n",
       "lost    259\n",
       "open     97\n",
       "Name: count, dtype: int64"
      ]
     },
     "execution_count": 10,
     "metadata": {},
     "output_type": "execute_result"
    }
   ],
   "source": [
    "data['FUNIL_ONBOARDING_PIPEDRIVE_status'].value_counts()"
   ]
  },
  {
   "cell_type": "code",
   "execution_count": 11,
   "metadata": {},
   "outputs": [
    {
     "data": {
      "image/png": "[encoded data removed]",
      "text/plain": [
       "<Figure size 1000x1000 with 1 Axes>"
      ]
     },
     "metadata": {},
     "output_type": "display_data"
    }
   ],
   "source": [
    "import matplotlib.pyplot as plt\n",
    "\n",
    "\n",
    "# Definindo os limites geográficos do Brasil\n",
    "lat_min, lat_max = -34, 5\n",
    "lon_min, lon_max = -74, -34\n",
    "\n",
    "# Filtrando as cidades dentro dos limites do Brasil\n",
    "data = data[(data['latitude'].between(lat_min, lat_max)) & \n",
    "               (data['longitude'].between(lon_min, lon_max))]\n",
    "\n",
    "import matplotlib.pyplot as plt\n",
    "import cartopy.crs as ccrs\n",
    "import cartopy.feature as cfeature\n",
    "\n",
    "# Your data filtering remains the same\n",
    "\n",
    "# Creating the map using Cartopy\n",
    "fig, ax = plt.subplots(figsize=(10, 10), subplot_kw={'projection': ccrs.PlateCarree()})\n",
    "ax.set_extent([lon_min, lon_max, lat_min, lat_max])\n",
    "\n",
    "# Adding features to the map\n",
    "ax.add_feature(cfeature.COASTLINE)\n",
    "ax.add_feature(cfeature.BORDERS, linestyle=':')\n",
    "ax.add_feature(cfeature.LAND, color='lightgray')\n",
    "ax.add_feature(cfeature.OCEAN, color='lightblue')\n",
    "\n",
    "# Plotting the points with sizes based on the 'weight'\n",
    "# Adding edgecolor for borders and specifying the linewidths\n",
    "scatter = plt.scatter(data['longitude'], data['latitude'], s=data['weight'] * 200,\n",
    "                      color='red', edgecolor='black', linewidths=1,\n",
    "                      transform=ccrs.PlateCarree(), label='Quantidade relativa a cidade')\n",
    "\n",
    "# Adding a legend\n",
    "plt.legend()\n",
    "plt.title('Quantidade relativa de assinaturas perdidas por cidade')\n",
    "\n",
    "plt.show()"
   ]
  },
  {
   "cell_type": "code",
   "execution_count": 18,
   "metadata": {},
   "outputs": [
    {
     "data": {
      "image/png": "[encoded data removed]",
      "text/plain": [
       "<Figure size 640x480 with 1 Axes>"
      ]
     },
     "metadata": {},
     "output_type": "display_data"
    }
   ],
   "source": [
    "import matplotlib.pyplot as plt\n",
    "import pandas as pd\n",
    "\n",
    "# Supondo que 'data' seja o seu DataFrame\n",
    "# Contar a frequência de cada cidade\n",
    "contagem_cidades = data['PESSOA_PIPEDRIVE_city'].value_counts()\n",
    "\n",
    "# Você pode escolher mostrar apenas as top N cidades\n",
    "N = 30  # Por exemplo, as 20 cidades com mais clientes\n",
    "contagem_cidades = contagem_cidades.head(N)\n",
    "\n",
    "# Criar um gráfico de barras horizontal\n",
    "contagem_cidades.plot(kind='barh', edgecolor='black')\n",
    "\n",
    "# Adicionar títulos e rótulos\n",
    "plt.title('Top 30 Cidades com Maior Quantidade de Clientes')\n",
    "plt.xlabel('Quantidade de Clientes')\n",
    "plt.ylabel('Cidades')\n",
    "\n",
    "# Inverter o gráfico para mostrar a cidade com mais clientes no topo\n",
    "plt.gca().invert_yaxis()\n",
    "\n",
    "# Mostrar o gráfico\n",
    "plt.show()\n"
   ]
  },
  {
   "cell_type": "code",
   "execution_count": 13,
   "metadata": {},
   "outputs": [
    {
     "ename": "NameError",
     "evalue": "name 'PESSOA_PIPEDRIVE_city' is not defined",
     "output_type": "error",
     "traceback": [
      "\u001b[0;31m---------------------------------------------------------------------------\u001b[0m",
      "\u001b[0;31mNameError\u001b[0m                                 Traceback (most recent call last)",
      "\u001b[1;32m/Users/tomasalessi/Workspace/sprint4-support-vector-team/src/notebooks/graphic1-2.ipynb Cell 13\u001b[0m line \u001b[0;36m1\n\u001b[0;32m----> <a href='vscode-notebook-cell:/Users/tomasalessi/Workspace/sprint4-support-vector-team/src/notebooks/graphic1-2.ipynb#X15sZmlsZQ%3D%3D?line=0'>1</a>\u001b[0m PESSOA_PIPEDRIVE_city\n",
      "\u001b[0;31mNameError\u001b[0m: name 'PESSOA_PIPEDRIVE_city' is not defined"
     ]
    }
   ],
   "source": [
    "PESSOA_PIPEDRIVE_city"
   ]
  }
 ],
 "metadata": {
  "kernelspec": {
   "display_name": "env",
   "language": "python",
   "name": "python3"
  },
  "language_info": {
   "codemirror_mode": {
    "name": "ipython",
    "version": 3
   },
   "file_extension": ".py",
   "mimetype": "text/x-python",
   "name": "python",
   "nbconvert_exporter": "python",
   "pygments_lexer": "ipython3",
   "version": "3.10.2"
  }
 },
 "nbformat": 4,
 "nbformat_minor": 2
}
