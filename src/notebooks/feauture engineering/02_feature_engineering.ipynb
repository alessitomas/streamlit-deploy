{
 "cells": [
  {
   "cell_type": "markdown",
   "metadata": {},
   "source": [
    "# Feature engineering\n",
    "\n",
    "Colunas FUNIL_ASSINATURA_PIPEDRIVE_status até ATENDIMENTOS_AGENDA_Datas Atendimento Médico"
   ]
  },
  {
   "cell_type": "code",
   "execution_count": 40,
   "metadata": {},
   "outputs": [],
   "source": [
    "import pandas as pd\n",
    "\n",
    "data = pd.read_csv(\"../data/data-preprocessed.csv\")"
   ]
  },
  {
   "cell_type": "markdown",
   "metadata": {},
   "source": [
    "## Coluna extra: Tempo de permanência\n",
    "\n",
    "Coluna \"stay_time\" criada para calcular tempo total do usuário na plataforma. Utiliza lost_time - start_of_service ou lost_time - contract_start_date, se os dados de start_of_service forem nulos. "
   ]
  },
  {
   "cell_type": "code",
   "execution_count": null,
   "metadata": {},
   "outputs": [],
   "source": [
    "import pandas as pd\n",
    "from datetime import datetime\n",
    "\n",
    "tempo_permanencia = []\n",
    "\n",
    "for indice, valor in data[\"FUNIL_ASSINATURA_PIPEDRIVE_start_of_service\"].items():\n",
    "  if pd.notna(valor):\n",
    "      index = data.loc[indice, \"FUNIL_ASSINATURA_PIPEDRIVE_start_of_service\"].find(\";\")\n",
    "      if index != -1:\n",
    "        data.loc[indice, \"FUNIL_ASSINATURA_PIPEDRIVE_start_of_service\"] = data.loc[indice, \"FUNIL_ASSINATURA_PIPEDRIVE_start_of_service\"][:index]\n",
    "\n",
    "for indice, valor in data[\"FUNIL_ASSINATURA_PIPEDRIVE_lost_time\"].items():\n",
    "  if pd.notna(valor):\n",
    "    if data.loc[indice, \"FUNIL_ASSINATURA_PIPEDRIVE_lost_time\"] != \"Em aberto\":\t\n",
    "      if pd.notna(data.loc[indice, \"FUNIL_ASSINATURA_PIPEDRIVE_start_of_service\"]):\n",
    "        tempo_1 = datetime.strptime(data.loc[indice, \"FUNIL_ASSINATURA_PIPEDRIVE_lost_time\"], '%Y-%m-%d')\n",
    "        tempo_2 = datetime.strptime(data.loc[indice, \"FUNIL_ASSINATURA_PIPEDRIVE_start_of_service\"], '%Y-%m-%d')\n",
    "        tempo_permanencia.append(str(tempo_1 - tempo_2))\n",
    "      else:\n",
    "        tempo_1 = datetime.strptime(data.loc[indice, \"FUNIL_ASSINATURA_PIPEDRIVE_lost_time\"], '%Y-%m-%d')\n",
    "        tempo_2 = datetime.strptime(data.loc[indice, \"PESSOA_PIPEDRIVE_contract_start_date\"], '%Y-%m-%d')\n",
    "        tempo_permanencia.append(str(tempo_1 - tempo_2))\n",
    "    else:\n",
    "      tempo_permanencia.append(\"Em aberto\")\n",
    "\n",
    "data['stay_time'] = tempo_permanencia\n",
    "\n",
    "for indice, valor in data[\"stay_time\"].items():\n",
    "  if valor != \"Em aberto\":\n",
    "    index = data.loc[indice, \"stay_time\"].find(\",\")\n",
    "    if index != -1:\n",
    "      data.loc[indice, \"stay_time\"] = data.loc[indice, \"stay_time\"][:index]\n",
    "\n",
    "data['stay_time']\n",
    "\n"
   ]
  },
  {
   "cell_type": "markdown",
   "metadata": {},
   "source": [
    "## Coluna extra: Último processo de onboarding concluído\n",
    "\n",
    "Coluna criada usando as informações de stay_in_pipeline_stages_welcome, stay_in_pipeline_stages_first_meeting e stay_in_pipeline_stages_whoqol. Mostra o último processo concluído. \n"
   ]
  },
  {
   "cell_type": "code",
   "execution_count": null,
   "metadata": {},
   "outputs": [],
   "source": [
    "ultimos_estados = []\n",
    "\n",
    "for indice, valor in data[\"FUNIL_ONBOARDING_PIPEDRIVE_add_time\"].items():\n",
    "    if valor != \"Não iniciado\":\n",
    "        if pd.notna(data.loc[indice, \"FUNIL_ONBOARDING_PIPEDRIVE_stay_in_pipeline_stages_welcome\"]):\n",
    "            if pd.notna(data.loc[indice, \"FUNIL_ONBOARDING_PIPEDRIVE_stay_in_pipeline_stages_first_meeting\"]):\n",
    "                if pd.notna(data.loc[indice, \"FUNIL_ONBOARDING_PIPEDRIVE_stay_in_pipeline_stages_whoqol\"]):\n",
    "                    ultimos_estados.append(\"Questionário\")\n",
    "                else:\n",
    "                    ultimos_estados.append(\"Primeira reunião\")\n",
    "            else:\n",
    "                ultimos_estados.append(\"Boas-vindas\")\n",
    "        \n",
    "    else:\n",
    "        ultimos_estados.append(\"Não iniciado\")\n",
    "\n",
    "data[\"last_stage_concluded\"] = ultimos_estados\n",
    "\n",
    "data.drop([\"FUNIL_ONBOARDING_PIPEDRIVE_stay_in_pipeline_stages_welcome\", \"FUNIL_ONBOARDING_PIPEDRIVE_stay_in_pipeline_stages_first_meeting\", \"FUNIL_ONBOARDING_PIPEDRIVE_stay_in_pipeline_stages_whoqol\"], axis=1, inplace=True)"
   ]
  },
  {
   "cell_type": "markdown",
   "metadata": {},
   "source": [
    "## Coluna extra: duração de onboarding\n",
    "\n",
    "Combina as informações de won_time e lost_time em uma única coluna. Se tiver lost time, usa lost time; se tiver won time, usa won time; se add time for null, usar \"não iniciado\"; do contrario, usar \"em aberto\".\n"
   ]
  },
  {
   "cell_type": "code",
   "execution_count": null,
   "metadata": {},
   "outputs": [],
   "source": [
    "## Coluna extra: duração de onboarding\n",
    "\n",
    "Combina as informações de won_time e lost_time em uma única coluna. Se tiver lost time, usa lost time; se tiver won time, usa won time; se add time for null, usar \"não iniciado\"; do contrario, usar \"em aberto\".\n",
    "\n",
    "tempo = []\n",
    "\n",
    "for indice, valor in data[\"FUNIL_ONBOARDING_PIPEDRIVE_add_time\"].items():\n",
    "    if valor != \"Não iniciado\":\n",
    "        if pd.notna(data.loc[indice, \"FUNIL_ONBOARDING_PIPEDRIVE_lost_time\"]) == True:\n",
    "            tempo.append(data.loc[indice, \"FUNIL_ONBOARDING_PIPEDRIVE_lost_time\"])\n",
    "        elif pd.notna(data.loc[indice, \"FUNIL_ONBOARDING_PIPEDRIVE_won_time\"]) == True:\n",
    "            tempo.append(data.loc[indice, \"FUNIL_ONBOARDING_PIPEDRIVE_won_time\"])\n",
    "        else:\n",
    "            tempo.append(\"Em aberto\")\n",
    "    else:\n",
    "        tempo.append(\"Não iniciado\")\n",
    "\n",
    "data['process_time'] = tempo\n",
    "\n",
    "\n",
    "\n",
    "for indice, valor in data[\"process_time\"].items():\n",
    "  if data.loc[indice, \"process_time\"] != \"Não iniciado\" and data.loc[indice, \"process_time\"] != \"Em aberto\":\n",
    "    data.loc[indice, \"process_time\"] = pd.to_datetime(data.loc[indice, \"process_time\"], format='%Y-%m-%d', errors='coerce')\n",
    "    data.loc[indice, \"process_time\"] = data.loc[indice, \"process_time\"].strftime('%Y-%m-%d')\n",
    "\n",
    "data.drop([\"FUNIL_ONBOARDING_PIPEDRIVE_won_time\", \"FUNIL_ONBOARDING_PIPEDRIVE_lost_time\"], axis=1, inplace=True)\n",
    "\n"
   ]
  },
  {
   "cell_type": "markdown",
   "metadata": {},
   "source": [
    "## FUNIL_ASSINATURA_PIPEDRIVE_status\n",
    "\n",
    "Transforma dados da coluna em one not encoding"
   ]
  },
  {
   "cell_type": "code",
   "execution_count": 41,
   "metadata": {},
   "outputs": [
    {
     "data": {
      "text/plain": [
       "won     544\n",
       "lost    428\n",
       "Name: FUNIL_ASSINATURA_PIPEDRIVE_status, dtype: int64"
      ]
     },
     "execution_count": 41,
     "metadata": {},
     "output_type": "execute_result"
    }
   ],
   "source": [
    "data['FUNIL_ASSINATURA_PIPEDRIVE_status'].value_counts()"
   ]
  },
  {
   "cell_type": "code",
   "execution_count": 42,
   "metadata": {},
   "outputs": [],
   "source": [
    "one_hot_encoded = pd.get_dummies(data['FUNIL_ASSINATURA_PIPEDRIVE_status'], prefix='status')\n",
    "data = pd.concat([data, one_hot_encoded], axis=1)"
   ]
  },
  {
   "cell_type": "markdown",
   "metadata": {},
   "source": [
    "## FUNIL_ONBOARDING_PIPEDRIVE_status\n",
    "\n",
    "One-hot encoding aplicado nessa coluna"
   ]
  },
  {
   "cell_type": "code",
   "execution_count": null,
   "metadata": {},
   "outputs": [
    {
     "data": {
      "text/plain": [
       "won             579\n",
       "lost            258\n",
       "open             99\n",
       "Não iniciado     36\n",
       "Name: FUNIL_ONBOARDING_PIPEDRIVE_status, dtype: int64"
      ]
     },
     "metadata": {},
     "output_type": "display_data"
    }
   ],
   "source": [
    "data['FUNIL_ONBOARDING_PIPEDRIVE_status'].value_counts()"
   ]
  },
  {
   "cell_type": "code",
   "execution_count": null,
   "metadata": {},
   "outputs": [],
   "source": [
    "data_status_encoded = pd.get_dummies(data['FUNIL_ONBOARDING_PIPEDRIVE_status'], prefix='Status')\n",
    "data = pd.concat([data, data_status_encoded], axis=1)"
   ]
  },
  {
   "cell_type": "markdown",
   "metadata": {},
   "source": [
    "## FUNIL_ONBOARDING_PIPEDRIVE_lost_reason\n",
    "\n",
    "One hot encoding aplicado na coluna"
   ]
  },
  {
   "cell_type": "code",
   "execution_count": null,
   "metadata": {},
   "outputs": [
    {
     "data": {
      "text/plain": [
       "Outro                                                                747\n",
       "[Onboarding] Não retornou aos contatos de resgate                    195\n",
       "[Onboarding] Não tem interesse em seguir nas etapas do onboarding     18\n",
       "[Associade] Cancelou assinatura                                       12\n",
       "Name: FUNIL_ONBOARDING_PIPEDRIVE_lost_reason, dtype: int64"
      ]
     },
     "metadata": {},
     "output_type": "display_data"
    }
   ],
   "source": [
    "data['FUNIL_ONBOARDING_PIPEDRIVE_lost_reason'].value_counts()"
   ]
  },
  {
   "cell_type": "code",
   "execution_count": null,
   "metadata": {},
   "outputs": [],
   "source": [
    "lost_reason_dummies = pd.get_dummies(data['FUNIL_ONBOARDING_PIPEDRIVE_lost_reason'], prefix='lost_reason')\n",
    "data = pd.concat([data, lost_reason_dummies], axis=1)\n"
   ]
  },
  {
   "cell_type": "markdown",
   "metadata": {},
   "source": [
    "## FUNIL_ASSINATURA_PIPEDRIVE_lost_reason"
   ]
  },
  {
   "cell_type": "markdown",
   "metadata": {},
   "source": [
    "Faz one hot encoding para motivos de cancelamento de assinatura"
   ]
  },
  {
   "cell_type": "code",
   "execution_count": null,
   "metadata": {},
   "outputs": [
    {
     "data": {
      "text/plain": [
       "Outro                                                         601\n",
       "[Assinatura] Desligamento                                     211\n",
       "[Assinatura] Empresa cancelou o benefício da Ana               53\n",
       "[Assinatura] Não quer seguir com a Ana                         49\n",
       "[Assinatura] Precisou cortar custos                            24\n",
       "[Assinatura] Cancelamento por inadimplência                    18\n",
       "[Assinatura] Está sem tempo para conciliar os atendimentos     16\n",
       "Name: FUNIL_ASSINATURA_PIPEDRIVE_lost_reason, dtype: int64"
      ]
     },
     "metadata": {},
     "output_type": "display_data"
    }
   ],
   "source": [
    "data['FUNIL_ASSINATURA_PIPEDRIVE_lost_reason'].value_counts()"
   ]
  },
  {
   "cell_type": "code",
   "execution_count": null,
   "metadata": {},
   "outputs": [
    {
     "data": {
      "text/html": [
       "<div>\n",
       "<style scoped>\n",
       "    .dataframe tbody tr th:only-of-type {\n",
       "        vertical-align: middle;\n",
       "    }\n",
       "\n",
       "    .dataframe tbody tr th {\n",
       "        vertical-align: top;\n",
       "    }\n",
       "\n",
       "    .dataframe thead th {\n",
       "        text-align: right;\n",
       "    }\n",
       "</style>\n",
       "<table border=\"1\" class=\"dataframe\">\n",
       "  <thead>\n",
       "    <tr style=\"text-align: right;\">\n",
       "      <th></th>\n",
       "      <th>PESSOA_PIPEDRIVE_id_person</th>\n",
       "      <th>PESSOA_PIPEDRIVE_id_gender</th>\n",
       "      <th>PESSOA_PIPEDRIVE_id_marrital_status</th>\n",
       "      <th>PESSOA_PIPEDRIVE_state</th>\n",
       "      <th>PESSOA_PIPEDRIVE_city</th>\n",
       "      <th>PESSOA_PIPEDRIVE_postal_code</th>\n",
       "      <th>PESSOA_PIPEDRIVE_contract_start_date</th>\n",
       "      <th>PESSOA_PIPEDRIVE_contract_end_date</th>\n",
       "      <th>PESSOA_PIPEDRIVE_Canal de Preferência</th>\n",
       "      <th>PESSOA_PIPEDRIVE_notes_count</th>\n",
       "      <th>...</th>\n",
       "      <th>process_time</th>\n",
       "      <th>TWILIO_Data Última Mensagens Outbound Recente</th>\n",
       "      <th>TWILIO_Data Última Ligações Outbound Recente</th>\n",
       "      <th>lost_reason_Outro</th>\n",
       "      <th>lost_reason_[Assinatura] Cancelamento por inadimplência</th>\n",
       "      <th>lost_reason_[Assinatura] Desligamento</th>\n",
       "      <th>lost_reason_[Assinatura] Empresa cancelou o benefício da Ana</th>\n",
       "      <th>lost_reason_[Assinatura] Está sem tempo para conciliar os atendimentos</th>\n",
       "      <th>lost_reason_[Assinatura] Não quer seguir com a Ana</th>\n",
       "      <th>lost_reason_[Assinatura] Precisou cortar custos</th>\n",
       "    </tr>\n",
       "  </thead>\n",
       "  <tbody>\n",
       "    <tr>\n",
       "      <th>0</th>\n",
       "      <td>483</td>\n",
       "      <td>64</td>\n",
       "      <td>80</td>\n",
       "      <td>Minas Gerais</td>\n",
       "      <td>Juiz de Fora</td>\n",
       "      <td>36021-600</td>\n",
       "      <td>2021-01-27</td>\n",
       "      <td>2023-08-26</td>\n",
       "      <td>0</td>\n",
       "      <td>3</td>\n",
       "      <td>...</td>\n",
       "      <td>2022-04-19 15:19:40</td>\n",
       "      <td>1</td>\n",
       "      <td>1</td>\n",
       "      <td>0</td>\n",
       "      <td>0</td>\n",
       "      <td>0</td>\n",
       "      <td>0</td>\n",
       "      <td>0</td>\n",
       "      <td>1</td>\n",
       "      <td>0</td>\n",
       "    </tr>\n",
       "    <tr>\n",
       "      <th>1</th>\n",
       "      <td>860</td>\n",
       "      <td>63</td>\n",
       "      <td>80</td>\n",
       "      <td>Paraná</td>\n",
       "      <td>Londrina</td>\n",
       "      <td>86020-410</td>\n",
       "      <td>2022-06-21</td>\n",
       "      <td>2023-09-20</td>\n",
       "      <td>239</td>\n",
       "      <td>3</td>\n",
       "      <td>...</td>\n",
       "      <td>2022-06-27 15:03:30</td>\n",
       "      <td>1</td>\n",
       "      <td>0</td>\n",
       "      <td>1</td>\n",
       "      <td>0</td>\n",
       "      <td>0</td>\n",
       "      <td>0</td>\n",
       "      <td>0</td>\n",
       "      <td>0</td>\n",
       "      <td>0</td>\n",
       "    </tr>\n",
       "    <tr>\n",
       "      <th>2</th>\n",
       "      <td>961</td>\n",
       "      <td>63</td>\n",
       "      <td>80</td>\n",
       "      <td>Santa Catarina</td>\n",
       "      <td>Florianópolis</td>\n",
       "      <td>88080-080</td>\n",
       "      <td>2021-07-05</td>\n",
       "      <td>2021-10-01</td>\n",
       "      <td>0</td>\n",
       "      <td>1</td>\n",
       "      <td>...</td>\n",
       "      <td>2021-10-04 12:25:41</td>\n",
       "      <td>0</td>\n",
       "      <td>0</td>\n",
       "      <td>0</td>\n",
       "      <td>0</td>\n",
       "      <td>0</td>\n",
       "      <td>1</td>\n",
       "      <td>0</td>\n",
       "      <td>0</td>\n",
       "      <td>0</td>\n",
       "    </tr>\n",
       "    <tr>\n",
       "      <th>3</th>\n",
       "      <td>972</td>\n",
       "      <td>63</td>\n",
       "      <td>82</td>\n",
       "      <td>Minas Gerais</td>\n",
       "      <td>Uberlândia</td>\n",
       "      <td>38400-438</td>\n",
       "      <td>2021-06-28</td>\n",
       "      <td>2023-09-16</td>\n",
       "      <td>0</td>\n",
       "      <td>2</td>\n",
       "      <td>...</td>\n",
       "      <td>2022-05-05 13:14:01</td>\n",
       "      <td>1</td>\n",
       "      <td>0</td>\n",
       "      <td>1</td>\n",
       "      <td>0</td>\n",
       "      <td>0</td>\n",
       "      <td>0</td>\n",
       "      <td>0</td>\n",
       "      <td>0</td>\n",
       "      <td>0</td>\n",
       "    </tr>\n",
       "    <tr>\n",
       "      <th>4</th>\n",
       "      <td>973</td>\n",
       "      <td>64</td>\n",
       "      <td>80</td>\n",
       "      <td>Minas Gerais</td>\n",
       "      <td>Uberlândia</td>\n",
       "      <td>38405-364</td>\n",
       "      <td>2021-06-28</td>\n",
       "      <td>2022-02-07</td>\n",
       "      <td>0</td>\n",
       "      <td>1</td>\n",
       "      <td>...</td>\n",
       "      <td>2022-02-07 03:00:00</td>\n",
       "      <td>0</td>\n",
       "      <td>0</td>\n",
       "      <td>0</td>\n",
       "      <td>0</td>\n",
       "      <td>1</td>\n",
       "      <td>0</td>\n",
       "      <td>0</td>\n",
       "      <td>0</td>\n",
       "      <td>0</td>\n",
       "    </tr>\n",
       "    <tr>\n",
       "      <th>...</th>\n",
       "      <td>...</td>\n",
       "      <td>...</td>\n",
       "      <td>...</td>\n",
       "      <td>...</td>\n",
       "      <td>...</td>\n",
       "      <td>...</td>\n",
       "      <td>...</td>\n",
       "      <td>...</td>\n",
       "      <td>...</td>\n",
       "      <td>...</td>\n",
       "      <td>...</td>\n",
       "      <td>...</td>\n",
       "      <td>...</td>\n",
       "      <td>...</td>\n",
       "      <td>...</td>\n",
       "      <td>...</td>\n",
       "      <td>...</td>\n",
       "      <td>...</td>\n",
       "      <td>...</td>\n",
       "      <td>...</td>\n",
       "      <td>...</td>\n",
       "    </tr>\n",
       "    <tr>\n",
       "      <th>967</th>\n",
       "      <td>5944</td>\n",
       "      <td>64</td>\n",
       "      <td>80</td>\n",
       "      <td>Paraíba</td>\n",
       "      <td>João Pessoa</td>\n",
       "      <td>58052-310</td>\n",
       "      <td>2023-11-06</td>\n",
       "      <td>NaN</td>\n",
       "      <td>239</td>\n",
       "      <td>0</td>\n",
       "      <td>...</td>\n",
       "      <td>Em aberto</td>\n",
       "      <td>0</td>\n",
       "      <td>0</td>\n",
       "      <td>1</td>\n",
       "      <td>0</td>\n",
       "      <td>0</td>\n",
       "      <td>0</td>\n",
       "      <td>0</td>\n",
       "      <td>0</td>\n",
       "      <td>0</td>\n",
       "    </tr>\n",
       "    <tr>\n",
       "      <th>968</th>\n",
       "      <td>5948</td>\n",
       "      <td>64</td>\n",
       "      <td>80</td>\n",
       "      <td>Bahia</td>\n",
       "      <td>Salvador</td>\n",
       "      <td>41830-120</td>\n",
       "      <td>2023-11-07</td>\n",
       "      <td>NaN</td>\n",
       "      <td>0</td>\n",
       "      <td>0</td>\n",
       "      <td>...</td>\n",
       "      <td>Em aberto</td>\n",
       "      <td>0</td>\n",
       "      <td>0</td>\n",
       "      <td>1</td>\n",
       "      <td>0</td>\n",
       "      <td>0</td>\n",
       "      <td>0</td>\n",
       "      <td>0</td>\n",
       "      <td>0</td>\n",
       "      <td>0</td>\n",
       "    </tr>\n",
       "    <tr>\n",
       "      <th>969</th>\n",
       "      <td>5949</td>\n",
       "      <td>64</td>\n",
       "      <td>80</td>\n",
       "      <td>São Paulo</td>\n",
       "      <td>São Paulo</td>\n",
       "      <td>05014-001</td>\n",
       "      <td>2023-11-07</td>\n",
       "      <td>NaN</td>\n",
       "      <td>239</td>\n",
       "      <td>0</td>\n",
       "      <td>...</td>\n",
       "      <td>Em aberto</td>\n",
       "      <td>0</td>\n",
       "      <td>0</td>\n",
       "      <td>1</td>\n",
       "      <td>0</td>\n",
       "      <td>0</td>\n",
       "      <td>0</td>\n",
       "      <td>0</td>\n",
       "      <td>0</td>\n",
       "      <td>0</td>\n",
       "    </tr>\n",
       "    <tr>\n",
       "      <th>970</th>\n",
       "      <td>5954</td>\n",
       "      <td>63</td>\n",
       "      <td>82</td>\n",
       "      <td>São Paulo</td>\n",
       "      <td>São Paulo</td>\n",
       "      <td>04513-100</td>\n",
       "      <td>2023-11-07</td>\n",
       "      <td>NaN</td>\n",
       "      <td>239</td>\n",
       "      <td>0</td>\n",
       "      <td>...</td>\n",
       "      <td>Em aberto</td>\n",
       "      <td>0</td>\n",
       "      <td>0</td>\n",
       "      <td>1</td>\n",
       "      <td>0</td>\n",
       "      <td>0</td>\n",
       "      <td>0</td>\n",
       "      <td>0</td>\n",
       "      <td>0</td>\n",
       "      <td>0</td>\n",
       "    </tr>\n",
       "    <tr>\n",
       "      <th>971</th>\n",
       "      <td>5956</td>\n",
       "      <td>63</td>\n",
       "      <td>82</td>\n",
       "      <td>Rio de Janeiro</td>\n",
       "      <td>Rio de Janeiro</td>\n",
       "      <td>22280-010</td>\n",
       "      <td>2023-11-08</td>\n",
       "      <td>NaN</td>\n",
       "      <td>0</td>\n",
       "      <td>0</td>\n",
       "      <td>...</td>\n",
       "      <td>Em aberto</td>\n",
       "      <td>0</td>\n",
       "      <td>0</td>\n",
       "      <td>1</td>\n",
       "      <td>0</td>\n",
       "      <td>0</td>\n",
       "      <td>0</td>\n",
       "      <td>0</td>\n",
       "      <td>0</td>\n",
       "      <td>0</td>\n",
       "    </tr>\n",
       "  </tbody>\n",
       "</table>\n",
       "<p>972 rows × 57 columns</p>\n",
       "</div>"
      ],
      "text/plain": [
       "     PESSOA_PIPEDRIVE_id_person  PESSOA_PIPEDRIVE_id_gender  \\\n",
       "0                           483                          64   \n",
       "1                           860                          63   \n",
       "2                           961                          63   \n",
       "3                           972                          63   \n",
       "4                           973                          64   \n",
       "..                          ...                         ...   \n",
       "967                        5944                          64   \n",
       "968                        5948                          64   \n",
       "969                        5949                          64   \n",
       "970                        5954                          63   \n",
       "971                        5956                          63   \n",
       "\n",
       "     PESSOA_PIPEDRIVE_id_marrital_status PESSOA_PIPEDRIVE_state  \\\n",
       "0                                     80           Minas Gerais   \n",
       "1                                     80                 Paraná   \n",
       "2                                     80         Santa Catarina   \n",
       "3                                     82           Minas Gerais   \n",
       "4                                     80           Minas Gerais   \n",
       "..                                   ...                    ...   \n",
       "967                                   80                Paraíba   \n",
       "968                                   80                  Bahia   \n",
       "969                                   80              São Paulo   \n",
       "970                                   82              São Paulo   \n",
       "971                                   82         Rio de Janeiro   \n",
       "\n",
       "    PESSOA_PIPEDRIVE_city PESSOA_PIPEDRIVE_postal_code  \\\n",
       "0            Juiz de Fora                    36021-600   \n",
       "1                Londrina                    86020-410   \n",
       "2           Florianópolis                    88080-080   \n",
       "3              Uberlândia                    38400-438   \n",
       "4              Uberlândia                    38405-364   \n",
       "..                    ...                          ...   \n",
       "967           João Pessoa                    58052-310   \n",
       "968              Salvador                    41830-120   \n",
       "969             São Paulo                    05014-001   \n",
       "970             São Paulo                    04513-100   \n",
       "971        Rio de Janeiro                    22280-010   \n",
       "\n",
       "    PESSOA_PIPEDRIVE_contract_start_date PESSOA_PIPEDRIVE_contract_end_date  \\\n",
       "0                             2021-01-27                         2023-08-26   \n",
       "1                             2022-06-21                         2023-09-20   \n",
       "2                             2021-07-05                         2021-10-01   \n",
       "3                             2021-06-28                         2023-09-16   \n",
       "4                             2021-06-28                         2022-02-07   \n",
       "..                                   ...                                ...   \n",
       "967                           2023-11-06                                NaN   \n",
       "968                           2023-11-07                                NaN   \n",
       "969                           2023-11-07                                NaN   \n",
       "970                           2023-11-07                                NaN   \n",
       "971                           2023-11-08                                NaN   \n",
       "\n",
       "     PESSOA_PIPEDRIVE_Canal de Preferência  PESSOA_PIPEDRIVE_notes_count  ...  \\\n",
       "0                                        0                             3  ...   \n",
       "1                                      239                             3  ...   \n",
       "2                                        0                             1  ...   \n",
       "3                                        0                             2  ...   \n",
       "4                                        0                             1  ...   \n",
       "..                                     ...                           ...  ...   \n",
       "967                                    239                             0  ...   \n",
       "968                                      0                             0  ...   \n",
       "969                                    239                             0  ...   \n",
       "970                                    239                             0  ...   \n",
       "971                                      0                             0  ...   \n",
       "\n",
       "            process_time  TWILIO_Data Última Mensagens Outbound Recente  \\\n",
       "0    2022-04-19 15:19:40                                              1   \n",
       "1    2022-06-27 15:03:30                                              1   \n",
       "2    2021-10-04 12:25:41                                              0   \n",
       "3    2022-05-05 13:14:01                                              1   \n",
       "4    2022-02-07 03:00:00                                              0   \n",
       "..                   ...                                            ...   \n",
       "967            Em aberto                                              0   \n",
       "968            Em aberto                                              0   \n",
       "969            Em aberto                                              0   \n",
       "970            Em aberto                                              0   \n",
       "971            Em aberto                                              0   \n",
       "\n",
       "     TWILIO_Data Última Ligações Outbound Recente lost_reason_Outro  \\\n",
       "0                                               1                 0   \n",
       "1                                               0                 1   \n",
       "2                                               0                 0   \n",
       "3                                               0                 1   \n",
       "4                                               0                 0   \n",
       "..                                            ...               ...   \n",
       "967                                             0                 1   \n",
       "968                                             0                 1   \n",
       "969                                             0                 1   \n",
       "970                                             0                 1   \n",
       "971                                             0                 1   \n",
       "\n",
       "    lost_reason_[Assinatura] Cancelamento por inadimplência  \\\n",
       "0                                                    0        \n",
       "1                                                    0        \n",
       "2                                                    0        \n",
       "3                                                    0        \n",
       "4                                                    0        \n",
       "..                                                 ...        \n",
       "967                                                  0        \n",
       "968                                                  0        \n",
       "969                                                  0        \n",
       "970                                                  0        \n",
       "971                                                  0        \n",
       "\n",
       "    lost_reason_[Assinatura] Desligamento  \\\n",
       "0                                       0   \n",
       "1                                       0   \n",
       "2                                       0   \n",
       "3                                       0   \n",
       "4                                       1   \n",
       "..                                    ...   \n",
       "967                                     0   \n",
       "968                                     0   \n",
       "969                                     0   \n",
       "970                                     0   \n",
       "971                                     0   \n",
       "\n",
       "    lost_reason_[Assinatura] Empresa cancelou o benefício da Ana  \\\n",
       "0                                                    0             \n",
       "1                                                    0             \n",
       "2                                                    1             \n",
       "3                                                    0             \n",
       "4                                                    0             \n",
       "..                                                 ...             \n",
       "967                                                  0             \n",
       "968                                                  0             \n",
       "969                                                  0             \n",
       "970                                                  0             \n",
       "971                                                  0             \n",
       "\n",
       "    lost_reason_[Assinatura] Está sem tempo para conciliar os atendimentos  \\\n",
       "0                                                    0                       \n",
       "1                                                    0                       \n",
       "2                                                    0                       \n",
       "3                                                    0                       \n",
       "4                                                    0                       \n",
       "..                                                 ...                       \n",
       "967                                                  0                       \n",
       "968                                                  0                       \n",
       "969                                                  0                       \n",
       "970                                                  0                       \n",
       "971                                                  0                       \n",
       "\n",
       "    lost_reason_[Assinatura] Não quer seguir com a Ana  \\\n",
       "0                                                    1   \n",
       "1                                                    0   \n",
       "2                                                    0   \n",
       "3                                                    0   \n",
       "4                                                    0   \n",
       "..                                                 ...   \n",
       "967                                                  0   \n",
       "968                                                  0   \n",
       "969                                                  0   \n",
       "970                                                  0   \n",
       "971                                                  0   \n",
       "\n",
       "    lost_reason_[Assinatura] Precisou cortar custos  \n",
       "0                                                 0  \n",
       "1                                                 0  \n",
       "2                                                 0  \n",
       "3                                                 0  \n",
       "4                                                 0  \n",
       "..                                              ...  \n",
       "967                                               0  \n",
       "968                                               0  \n",
       "969                                               0  \n",
       "970                                               0  \n",
       "971                                               0  \n",
       "\n",
       "[972 rows x 57 columns]"
      ]
     },
     "metadata": {},
     "output_type": "display_data"
    }
   ],
   "source": [
    "lost_reason_dummies = pd.get_dummies(data['FUNIL_ASSINATURA_PIPEDRIVE_lost_reason'], prefix='lost_reason')\n",
    "data = pd.concat([data, lost_reason_dummies], axis=1)\n",
    "\n",
    "data"
   ]
  },
  {
   "cell_type": "markdown",
   "metadata": {},
   "source": [
    "## FUNIL_ASSINATURA_PIPEDRIVE_start_of_service"
   ]
  },
  {
   "cell_type": "markdown",
   "metadata": {},
   "source": [
    "Substitui valores nulos pela data de início do contrato e transforma o tipo em datetime"
   ]
  },
  {
   "cell_type": "code",
   "execution_count": 43,
   "metadata": {},
   "outputs": [
    {
     "data": {
      "text/plain": [
       "0      2023-01-27\n",
       "1      2022-06-21\n",
       "2      2021-07-05\n",
       "3      2021-06-28\n",
       "4      2021-06-28\n",
       "          ...    \n",
       "967    2023-11-06\n",
       "968    2023-11-07\n",
       "969    2023-11-07\n",
       "970    2023-11-07\n",
       "971    2023-11-08\n",
       "Name: FUNIL_ASSINATURA_PIPEDRIVE_start_of_service, Length: 972, dtype: object"
      ]
     },
     "execution_count": 43,
     "metadata": {},
     "output_type": "execute_result"
    }
   ],
   "source": [
    "data['FUNIL_ASSINATURA_PIPEDRIVE_start_of_service']"
   ]
  },
  {
   "cell_type": "code",
   "execution_count": 44,
   "metadata": {},
   "outputs": [
    {
     "data": {
      "text/plain": [
       "0     2023-01-27\n",
       "1     2022-06-21\n",
       "2     2021-07-05\n",
       "3     2021-06-28\n",
       "4     2021-06-28\n",
       "         ...    \n",
       "967   2023-11-06\n",
       "968   2023-11-07\n",
       "969   2023-11-07\n",
       "970   2023-11-07\n",
       "971   2023-11-08\n",
       "Name: FUNIL_ASSINATURA_PIPEDRIVE_start_of_service, Length: 972, dtype: datetime64[ns]"
      ]
     },
     "execution_count": 44,
     "metadata": {},
     "output_type": "execute_result"
    }
   ],
   "source": [
    "data['FUNIL_ASSINATURA_PIPEDRIVE_start_of_service'] = pd.to_datetime(data['FUNIL_ASSINATURA_PIPEDRIVE_start_of_service'])\n",
    "\n",
    "\n",
    "for indice, valor in data['FUNIL_ASSINATURA_PIPEDRIVE_start_of_service'].items():\n",
    "    if pd.isnull(valor):\n",
    "        data.loc[indice, 'FUNIL_ASSINATURA_PIPEDRIVE_start_of_service'] = data.loc[indice, 'PESSOA_PIPEDRIVE_contract_start_date']\n",
    "        \n",
    "data['FUNIL_ASSINATURA_PIPEDRIVE_start_of_service']\n",
    "\n",
    "\n"
   ]
  },
  {
   "cell_type": "markdown",
   "metadata": {},
   "source": [
    "## FUNIL_ASSINATURA_PIPEDRIVE_lost_time"
   ]
  },
  {
   "cell_type": "markdown",
   "metadata": {},
   "source": [
    "Utilizada para fazer uma nova coluna em conjunto com outras"
   ]
  },
  {
   "cell_type": "code",
   "execution_count": 45,
   "metadata": {},
   "outputs": [
    {
     "data": {
      "text/plain": [
       "0      2023-08-26\n",
       "1      2023-09-20\n",
       "2      2021-09-30\n",
       "3      2023-10-16\n",
       "4      2022-02-07\n",
       "          ...    \n",
       "967    2023-12-06\n",
       "968    2023-12-06\n",
       "969    2023-12-06\n",
       "970    2023-12-06\n",
       "971    2023-12-06\n",
       "Name: FUNIL_ASSINATURA_PIPEDRIVE_lost_time, Length: 972, dtype: object"
      ]
     },
     "execution_count": 45,
     "metadata": {},
     "output_type": "execute_result"
    }
   ],
   "source": [
    "data['FUNIL_ASSINATURA_PIPEDRIVE_lost_time']"
   ]
  },
  {
   "cell_type": "markdown",
   "metadata": {},
   "source": [
    "## FUNIL_ONBOARDING_PIPEDRIVE_add_time\n",
    "\n",
    "Tudo certo por aqui, nada a acrescentar"
   ]
  },
  {
   "cell_type": "code",
   "execution_count": 48,
   "metadata": {},
   "outputs": [
    {
     "data": {
      "text/plain": [
       "0      2021-09-16 18:15:11\n",
       "1      2022-06-21 23:48:22\n",
       "2      2021-09-16 18:28:04\n",
       "3      2021-09-16 18:04:29\n",
       "4      2021-09-16 18:05:03\n",
       "              ...         \n",
       "967    2023-11-06 18:34:05\n",
       "968    2023-11-07 12:22:13\n",
       "969    2023-11-07 13:05:44\n",
       "970    2023-11-07 20:34:02\n",
       "971    2023-11-08 19:03:40\n",
       "Name: FUNIL_ONBOARDING_PIPEDRIVE_add_time, Length: 972, dtype: object"
      ]
     },
     "execution_count": 48,
     "metadata": {},
     "output_type": "execute_result"
    }
   ],
   "source": [
    "data['FUNIL_ONBOARDING_PIPEDRIVE_add_time']"
   ]
  },
  {
   "cell_type": "markdown",
   "metadata": {},
   "source": [
    "## FUNIL_ONBOARDING_PIPEDRIVE_activities_count\n",
    "\n",
    "Tudo certo por aqui, nada a acrescentar"
   ]
  },
  {
   "cell_type": "code",
   "execution_count": 53,
   "metadata": {},
   "outputs": [
    {
     "data": {
      "text/plain": [
       "0      0\n",
       "1      0\n",
       "2      0\n",
       "3      2\n",
       "4      0\n",
       "      ..\n",
       "967    0\n",
       "968    0\n",
       "969    0\n",
       "970    0\n",
       "971    0\n",
       "Name: FUNIL_ONBOARDING_PIPEDRIVE_activities_count, Length: 972, dtype: int64"
      ]
     },
     "execution_count": 53,
     "metadata": {},
     "output_type": "execute_result"
    }
   ],
   "source": [
    "data['FUNIL_ONBOARDING_PIPEDRIVE_activities_count']"
   ]
  },
  {
   "cell_type": "markdown",
   "metadata": {},
   "source": [
    "## ATENDIMENTOS_AGENDA_Qde Todos Atendimentos\n",
    "\n",
    "Tudo certo por aqui, nada a acrescentar"
   ]
  },
  {
   "cell_type": "code",
   "execution_count": 54,
   "metadata": {},
   "outputs": [
    {
     "data": {
      "text/plain": [
       "0       2\n",
       "1      25\n",
       "2       0\n",
       "3       0\n",
       "4       0\n",
       "       ..\n",
       "967     0\n",
       "968     1\n",
       "969     0\n",
       "970     2\n",
       "971     0\n",
       "Name: ATENDIMENTOS_AGENDA_Qde Todos Atendimentos, Length: 972, dtype: int64"
      ]
     },
     "execution_count": 54,
     "metadata": {},
     "output_type": "execute_result"
    }
   ],
   "source": [
    "data['ATENDIMENTOS_AGENDA_Qde Todos Atendimentos']"
   ]
  },
  {
   "cell_type": "markdown",
   "metadata": {},
   "source": [
    "## ATENDIMENTOS_AGENDA_Qde Atendimento Médico\n",
    "\n",
    "Tudo certo por aqui, nada a acrescentar\n"
   ]
  },
  {
   "cell_type": "code",
   "execution_count": 56,
   "metadata": {},
   "outputs": [
    {
     "data": {
      "text/plain": [
       "0      0\n",
       "1      1\n",
       "2      0\n",
       "3      0\n",
       "4      0\n",
       "      ..\n",
       "967    0\n",
       "968    0\n",
       "969    0\n",
       "970    0\n",
       "971    0\n",
       "Name: ATENDIMENTOS_AGENDA_Qde Atendimento Médico, Length: 972, dtype: int64"
      ]
     },
     "execution_count": 56,
     "metadata": {},
     "output_type": "execute_result"
    }
   ],
   "source": [
    "data['ATENDIMENTOS_AGENDA_Qde Atendimento Médico']"
   ]
  },
  {
   "cell_type": "markdown",
   "metadata": {},
   "source": [
    "## ATENDIMENTOS_AGENDA_Faltas Atendimento Médico\n",
    "\n",
    "Tudo certo por aqui, nada a acrescentar"
   ]
  },
  {
   "cell_type": "code",
   "execution_count": 57,
   "metadata": {},
   "outputs": [
    {
     "data": {
      "text/plain": [
       "0      0\n",
       "1      0\n",
       "2      0\n",
       "3      0\n",
       "4      0\n",
       "      ..\n",
       "967    0\n",
       "968    0\n",
       "969    0\n",
       "970    0\n",
       "971    0\n",
       "Name: ATENDIMENTOS_AGENDA_Faltas Atendimento Médico, Length: 972, dtype: int64"
      ]
     },
     "execution_count": 57,
     "metadata": {},
     "output_type": "execute_result"
    }
   ],
   "source": [
    "data['ATENDIMENTOS_AGENDA_Faltas Atendimento Médico']\n"
   ]
  },
  {
   "cell_type": "markdown",
   "metadata": {},
   "source": [
    "## ATENDIMENTOS_AGENDA_Datas Atendimento Médico\n",
    "\n",
    "Tudo certo por aqui, nada a acrescentar"
   ]
  },
  {
   "cell_type": "code",
   "execution_count": 58,
   "metadata": {},
   "outputs": [
    {
     "data": {
      "text/plain": [
       "0            Nunca ocorreu\n",
       "1      2023-01-12 17:00:00\n",
       "2            Nunca ocorreu\n",
       "3            Nunca ocorreu\n",
       "4            Nunca ocorreu\n",
       "              ...         \n",
       "967          Nunca ocorreu\n",
       "968          Nunca ocorreu\n",
       "969          Nunca ocorreu\n",
       "970          Nunca ocorreu\n",
       "971          Nunca ocorreu\n",
       "Name: ATENDIMENTOS_AGENDA_Datas Atendimento Médico, Length: 972, dtype: object"
      ]
     },
     "execution_count": 58,
     "metadata": {},
     "output_type": "execute_result"
    }
   ],
   "source": [
    "data['ATENDIMENTOS_AGENDA_Datas Atendimento Médico']"
   ]
  }
 ],
 "metadata": {
  "kernelspec": {
   "display_name": "Python 3",
   "language": "python",
   "name": "python3"
  },
  "language_info": {
   "codemirror_mode": {
    "name": "ipython",
    "version": 3
   },
   "file_extension": ".py",
   "mimetype": "text/x-python",
   "name": "python",
   "nbconvert_exporter": "python",
   "pygments_lexer": "ipython3",
   "version": "3.10.2"
  }
 },
 "nbformat": 4,
 "nbformat_minor": 2
}
