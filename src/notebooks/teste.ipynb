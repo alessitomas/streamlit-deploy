{
 "cells": [
  {
   "cell_type": "code",
   "execution_count": 2,
   "metadata": {},
   "outputs": [],
   "source": [
    "import pandas as pd\n",
    "import joblib\n",
    "import os \n",
    "import sys\n",
    "\n",
    "model = joblib.load('./data/SVR_model.joblib')"
   ]
  },
  {
   "cell_type": "code",
   "execution_count": 3,
   "metadata": {},
   "outputs": [
    {
     "name": "stdout",
     "output_type": "stream",
     "text": [
      "['PESSOA_PIPEDRIVE_notes_count', 'PESSOA_PIPEDRIVE_done_activities_count', 'FUNIL_ONBOARDING_PIPEDRIVE_activities_count', 'ATENDIMENTOS_AGENDA_Faltas Todos Atendimento', 'ATENDIMENTOS_AGENDA_Qde Atendimento Médico', 'ATENDIMENTOS_AGENDA_Faltas Atendimento Médico', 'ATENDIMENTOS_AGENDA_Qde Atendimentos Acolhimento', 'ATENDIMENTOS_AGENDA_Faltas Acolhimento', 'ATENDIMENTOS_AGENDA_Qde Psicoterapia', 'ATENDIMENTOS_AGENDA_Qde Prescrições', 'TWILIO_Mensagens Inbound', 'TWILIO_Mensagens Outbound', 'TWILIO_Ligações Outbound', 'PESSOA_PIPEDRIVE_age', 'PESSOA_PIPEDRIVE_has_public_health_plan', 'PESSOA_PIPEDRIVE_tem_data_dataframe_de_termino_de_contrato', 'PESSOA_PIPEDRIVE_Tem_Canal_de_Preferência', 'PESSOA_PIPEDRIVE_has_notes', 'WHOQOL_Físico_New', 'WHOQOL_Psicológico_New', 'WHOQOL_Social_New', 'WHOQOL_Ambiental_New', 'COMUNICARE_Problemas Abertos Bool', 'TWILIO_Data Última Mensagens Inbound Recente', 'stay_time', 'TWILIO_Data Última Mensagens Outbound Recente', 'TWILIO_Data Última Ligações Outbound Recente', 'PESSOA_PIPEDRIVE CRIANÇA', 'PESSOA_PIPEDRIVE JOVEM', 'PESSOA_PIPEDRIVE ADULTO', 'PESSOA_PIPEDRIVE IDOSO', 'ATENDIMENTOS_AGENDA_Qde Psicoterapia Nenhum', 'ATENDIMENTOS_AGENDA_Qde Psicoterapia Pouco', 'ATENDIMENTOS_AGENDA_Qde Psicoterapia Muito', 'PESSOA_PIPEDRIVE_id_gender Binário', 'FUNIL_ASSINATURA_PIPEDRIVE_id_stage Binário', 'Status_80', 'Estado_Pernambuco', 'PESSOA_PIPEDRIVE_city Codificada', 'status_lost', 'lost_reason_Outro', 'canal_preferencia_0', 'Status_won', 'lost_reason_Outro.1', 'stage_Questionário']\n"
     ]
    },
    {
     "data": {
      "text/plain": [
       "Index([50], dtype='int64')"
      ]
     },
     "execution_count": 3,
     "metadata": {},
     "output_type": "execute_result"
    }
   ],
   "source": [
    "df = pd.read_csv(\"../notebooks/data/data-engineering.csv\")\n",
    "lista = df.columns.to_list()\n",
    "print(lista)\n",
    "\n",
    "df_certo = pd.read_csv(\"../notebooks/data/Ana Health_Tabela Modelo Previsão Churn - Tabela.csv\")\n",
    "\n",
    "df_pimba = pd.DataFrame(df_certo.iloc[50])\n",
    "\n",
    "df_pimba.columns"
   ]
  },
  {
   "cell_type": "code",
   "execution_count": 6,
   "metadata": {},
   "outputs": [],
   "source": [
    "df = pd.read_csv(\"../notebooks/data/Ana Health_Tabela Modelo Previsão Churn - Tabela.csv\")\n",
    "\n"
   ]
  },
  {
   "cell_type": "code",
   "execution_count": null,
   "metadata": {},
   "outputs": [],
   "source": []
  },
  {
   "cell_type": "code",
   "execution_count": 5,
   "metadata": {},
   "outputs": [
    {
     "ename": "NameError",
     "evalue": "name 'data_json' is not defined",
     "output_type": "error",
     "traceback": [
      "\u001b[0;31m---------------------------------------------------------------------------\u001b[0m",
      "\u001b[0;31mNameError\u001b[0m                                 Traceback (most recent call last)",
      "\u001b[1;32m/Users/st4pzz/Desktop/insper_2023.2/SPRINT/sprint4-support-vector-team/src/notebooks/teste.ipynb Célula 4\u001b[0m line \u001b[0;36m1\n\u001b[0;32m----> <a href='vscode-notebook-cell:/Users/st4pzz/Desktop/insper_2023.2/SPRINT/sprint4-support-vector-team/src/notebooks/teste.ipynb#W2sZmlsZQ%3D%3D?line=0'>1</a>\u001b[0m data_df \u001b[39m=\u001b[39m pd\u001b[39m.\u001b[39mDataFrame([data_json])\n",
      "\u001b[0;31mNameError\u001b[0m: name 'data_json' is not defined"
     ]
    }
   ],
   "source": [
    "data_df = pd.DataFrame([data_json])"
   ]
  },
  {
   "cell_type": "code",
   "execution_count": null,
   "metadata": {},
   "outputs": [
    {
     "ename": "NameError",
     "evalue": "name 'DADOS' is not defined",
     "output_type": "error",
     "traceback": [
      "\u001b[0;31m---------------------------------------------------------------------------\u001b[0m",
      "\u001b[0;31mNameError\u001b[0m                                 Traceback (most recent call last)",
      "\u001b[1;32m/Users/st4pzz/Desktop/insper_2023.2/SPRINT/sprint4-support-vector-team/src/notebooks/teste.ipynb Célula 4\u001b[0m line \u001b[0;36m1\n\u001b[0;32m----> <a href='vscode-notebook-cell:/Users/st4pzz/Desktop/insper_2023.2/SPRINT/sprint4-support-vector-team/src/notebooks/teste.ipynb#W3sZmlsZQ%3D%3D?line=0'>1</a>\u001b[0m previsao \u001b[39m=\u001b[39m model\u001b[39m.\u001b[39mpredict(DADOS\u001b[39m.\u001b[39mvalues\u001b[39m.\u001b[39mreshape(\u001b[39m1\u001b[39m, \u001b[39m-\u001b[39m\u001b[39m1\u001b[39m))\n\u001b[1;32m      <a href='vscode-notebook-cell:/Users/st4pzz/Desktop/insper_2023.2/SPRINT/sprint4-support-vector-team/src/notebooks/teste.ipynb#W3sZmlsZQ%3D%3D?line=2'>3</a>\u001b[0m \u001b[39mprint\u001b[39m(previsao)\n",
      "\u001b[0;31mNameError\u001b[0m: name 'DADOS' is not defined"
     ]
    }
   ],
   "source": [
    "previsao = model.predict(DADOS.values.reshape(1, -1))\n",
    "\n",
    "print(previsao)\n"
   ]
  },
  {
   "cell_type": "code",
   "execution_count": null,
   "metadata": {},
   "outputs": [
    {
     "ename": "ImportError",
     "evalue": "attempted relative import with no known parent package",
     "output_type": "error",
     "traceback": [
      "\u001b[0;31m---------------------------------------------------------------------------\u001b[0m",
      "\u001b[0;31mImportError\u001b[0m                               Traceback (most recent call last)",
      "\u001b[1;32m/Users/st4pzz/Desktop/insper_2023.2/SPRINT/sprint4-support-vector-team/src/notebooks/teste.ipynb Célula 5\u001b[0m line \u001b[0;36m1\n\u001b[0;32m----> <a href='vscode-notebook-cell:/Users/st4pzz/Desktop/insper_2023.2/SPRINT/sprint4-support-vector-team/src/notebooks/teste.ipynb#W5sZmlsZQ%3D%3D?line=0'>1</a>\u001b[0m \u001b[39mfrom\u001b[39;00m \u001b[39m.\u001b[39;00m\u001b[39m.\u001b[39;00m\u001b[39mscripts\u001b[39;00m\u001b[39m.\u001b[39;00m\u001b[39mdata_preprocessing\u001b[39;00m \u001b[39mimport\u001b[39;00m preprocessing\n\u001b[1;32m      <a href='vscode-notebook-cell:/Users/st4pzz/Desktop/insper_2023.2/SPRINT/sprint4-support-vector-team/src/notebooks/teste.ipynb#W5sZmlsZQ%3D%3D?line=2'>3</a>\u001b[0m preprocessing(df_pimba)\n",
      "\u001b[0;31mImportError\u001b[0m: attempted relative import with no known parent package"
     ]
    }
   ],
   "source": [
    "from ..scripts.data_preprocessing import preprocessing\n",
    "\n",
    "preprocessing(df_pimba)\n"
   ]
  }
 ],
 "metadata": {
  "kernelspec": {
   "display_name": "env",
   "language": "python",
   "name": "python3"
  },
  "language_info": {
   "codemirror_mode": {
    "name": "ipython",
    "version": 3
   },
   "file_extension": ".py",
   "mimetype": "text/x-python",
   "name": "python",
   "nbconvert_exporter": "python",
   "pygments_lexer": "ipython3",
   "version": "3.9.10"
  }
 },
 "nbformat": 4,
 "nbformat_minor": 2
}
