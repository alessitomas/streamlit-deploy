{
 "cells": [
  {
   "cell_type": "code",
   "execution_count": 12,
   "metadata": {},
   "outputs": [],
   "source": [
    "import pandas as pd\n",
    "from api.scripts.data_preprocessing import preprocessing, mergeHeader_Columns\n",
    "from api.scripts.data_feature_engineering import feature_engineering\n",
    "\n",
    "df_raw = pd.read_csv('../../data/dados_recentes.csv')"
   ]
  },
  {
   "cell_type": "code",
   "execution_count": 13,
   "metadata": {},
   "outputs": [],
   "source": [
    "df_clean= preprocessing(df_raw)\n",
    "df_processed = feature_engineering(df_clean)"
   ]
  },
  {
   "cell_type": "code",
   "execution_count": 14,
   "metadata": {},
   "outputs": [
    {
     "data": {
      "text/plain": [
       "Index(['PESSOA_PIPEDRIVE_notes_count',\n",
       "       'PESSOA_PIPEDRIVE_done_activities_count',\n",
       "       'FUNIL_ONBOARDING_PIPEDRIVE_activities_count',\n",
       "       'ATENDIMENTOS_AGENDA_Qde Todos Atendimentos',\n",
       "       'ATENDIMENTOS_AGENDA_Faltas Todos Atendimento',\n",
       "       'ATENDIMENTOS_AGENDA_Qde Atendimento Médico',\n",
       "       'ATENDIMENTOS_AGENDA_Faltas Atendimento Médico',\n",
       "       'ATENDIMENTOS_AGENDA_Qde Atendimentos Acolhimento',\n",
       "       'ATENDIMENTOS_AGENDA_Faltas Acolhimento',\n",
       "       'ATENDIMENTOS_AGENDA_Qde Psicoterapia',\n",
       "       'ATENDIMENTOS_AGENDA_Faltas Psicoterapia',\n",
       "       'ATENDIMENTOS_AGENDA_Qde Prescrições', 'TWILIO_Mensagens Inbound',\n",
       "       'TWILIO_Mensagens Outbound', 'TWILIO_Ligações Outbound',\n",
       "       'PESSOA_PIPEDRIVE_age', 'PESSOA_PIPEDRIVE_has_public_health_plan',\n",
       "       'PESSOA_PIPEDRIVE_tem_data_dataframe_de_termino_de_contrato',\n",
       "       'PESSOA_PIPEDRIVE_Tem_Canal_de_Preferência',\n",
       "       'PESSOA_PIPEDRIVE_has_notes', 'WHOQOL_Físico_New',\n",
       "       'WHOQOL_Psicológico_New', 'WHOQOL_Social_New', 'WHOQOL_Ambiental_New',\n",
       "       'COMUNICARE_Problemas Abertos Bool',\n",
       "       'TWILIO_Data Última Mensagens Inbound Recente',\n",
       "       'TWILIO_Data Última Mensagens Outbound Recente',\n",
       "       'TWILIO_Data Última Ligações Outbound Recente',\n",
       "       'TWILIO_Mensagens Já Enviou', 'TWILIO_Mensagens Razão',\n",
       "       'PESSOA_PIPEDRIVE CRIANÇA', 'PESSOA_PIPEDRIVE JOVEM',\n",
       "       'PESSOA_PIPEDRIVE ADULTO', 'PESSOA_PIPEDRIVE IDOSO',\n",
       "       'PESSOA_PIPEDRIVE_id_gender Binário',\n",
       "       'FUNIL_ASSINATURA_PIPEDRIVE_id_stage Binário', 'Status_80', 'Status_80',\n",
       "       'Status_81', 'Status_82', 'Status_83', 'Estado_Alagoas',\n",
       "       'Estado_Amazonas', 'Estado_Bahia', 'Estado_Ceará',\n",
       "       'Estado_Distrito Federal', 'Estado_Espírito Santo', 'Estado_Maranhão',\n",
       "       'Estado_Mato Grosso do Sul', 'Estado_Minas Gerais', 'Estado_Paraná',\n",
       "       'Estado_Paraíba', 'Estado_Pará', 'Estado_Pernambuco', 'Estado_Piauí',\n",
       "       'Estado_Rio Grande do Norte', 'Estado_Rio Grande do Sul',\n",
       "       'Estado_Rio de Janeiro', 'Estado_Santa Catarina', 'Estado_Sergipe',\n",
       "       'Estado_State of Amazonas', 'Estado_São Paulo',\n",
       "       'PESSOA_PIPEDRIVE_city Codificada', 'assinatura_status_lost',\n",
       "       'assinatura_status_won', 'assinatura_lost_reason_Outro',\n",
       "       'assinatura_lost_reason_[Assinatura] Cancelamento por inadimplência',\n",
       "       'assinatura_lost_reason_[Assinatura] Desligamento',\n",
       "       'assinatura_lost_reason_[Assinatura] Empresa cancelou o benefício da Ana',\n",
       "       'assinatura_lost_reason_[Assinatura] Está sem tempo para conciliar os atendimentos',\n",
       "       'assinatura_lost_reason_[Assinatura] Não quer seguir com a Ana',\n",
       "       'assinatura_lost_reason_[Assinatura] Precisou cortar custos',\n",
       "       'canal_preferencia_0', 'canal_preferencia_238', 'canal_preferencia_239',\n",
       "       'canal_preferencia_360', 'onboarding_status_Não iniciado',\n",
       "       'onboarding_status_lost', 'onboarding_status_open',\n",
       "       'onboarding_status_won', 'onboarding_lost_reason_Outro',\n",
       "       'onboarding_lost_reason_[Associade] Cancelou assinatura',\n",
       "       'onboarding_lost_reason_[Onboarding] Não retornou aos contatos de resgate',\n",
       "       'onboarding_lost_reason_[Onboarding] Não tem interesse em seguir nas etapas do onboarding',\n",
       "       'stay_time', 'stage_Boas-vindas', 'stage_Não iniciado',\n",
       "       'stage_Primeira reunião', 'stage_Questionário'],\n",
       "      dtype='object')"
      ]
     },
     "execution_count": 14,
     "metadata": {},
     "output_type": "execute_result"
    }
   ],
   "source": [
    "df_processed.columns"
   ]
  },
  {
   "cell_type": "code",
   "execution_count": 15,
   "metadata": {},
   "outputs": [
    {
     "name": "stdout",
     "output_type": "stream",
     "text": [
      "Fitting 5 folds for each of 18 candidates, totalling 90 fits\n",
      "Modelo treinado com sucesso.\n",
      "Salvando modelo em: /Users/tomasalessi/Workspace/sprint4-support-vector-team/src/notebooks/data/SVR_model.joblib\n",
      "Modelo salvo com sucesso.\n"
     ]
    }
   ],
   "source": [
    "from api.scripts.data_to_deploy import modelo\n",
    "\n",
    "\n",
    "modelo(df_processed)"
   ]
  },
  {
   "cell_type": "code",
   "execution_count": 16,
   "metadata": {},
   "outputs": [
    {
     "data": {
      "text/plain": [
       "'[{\"PESSOA_PIPEDRIVE_id_person\":\"1260\",\"PESSOA_PIPEDRIVE_birthdate\":\"1995-04-05\",\"PESSOA_PIPEDRIVE_id_gender\":\"63\",\"PESSOA_PIPEDRIVE_id_marrital_status\":\"80\",\"PESSOA_PIPEDRIVE_state\":\"São Paulo\",\"PESSOA_PIPEDRIVE_city\":\"São Carlos\",\"PESSOA_PIPEDRIVE_postal_code\":\"13560-470\",\"PESSOA_PIPEDRIVE_id_health_plan\":\"412\",\"PESSOA_PIPEDRIVE_id_person_recommendation\":null,\"PESSOA_PIPEDRIVE_contract_start_date\":\"2021-08-12\",\"PESSOA_PIPEDRIVE_contract_end_date\":\"2022-09-11\",\"PESSOA_PIPEDRIVE_id_continuity_pf\":\"339\",\"PESSOA_PIPEDRIVE_Canal de Preferência\":null,\"PESSOA_PIPEDRIVE_notes_count\":\"1\",\"PESSOA_PIPEDRIVE_done_activities_count\":\"3\",\"PESSOA_PIPEDRIVE_Recebe Comunicados?\":null,\"PESSOA_PIPEDRIVE_Interesses\":null,\"PESSOA_PIPEDRIVE_Pontos de Atenção\":null,\"FUNIL_ASSINATURA_PIPEDRIVE_id_stage\":\"65\",\"FUNIL_ASSINATURA_PIPEDRIVE_id_org\":\"448\",\"FUNIL_ASSINATURA_PIPEDRIVE_status\":\"lost\",\"FUNIL_ASSINATURA_PIPEDRIVE_start_of_service\":\"2021-08-12\",\"FUNIL_ASSINATURA_PIPEDRIVE_lost_time\":\"2022-09-11 03:00:00\",\"FUNIL_ASSINATURA_PIPEDRIVE_lost_reason\":\"[Assinatura] Desligamento\",\"FUNIL_ONBOARDING_PIPEDRIVE_add_time\":\"2021-09-09 13:44:13\",\"FUNIL_ONBOARDING_PIPEDRIVE_status\":\"open\",\"FUNIL_ONBOARDING_PIPEDRIVE_id_label\":\"325\",\"FUNIL_ONBOARDING_PIPEDRIVE_stay_in_pipeline_stages_welcome\":\"0\",\"FUNIL_ONBOARDING_PIPEDRIVE_stay_in_pipeline_stages_first_meeting\":\"0\",\"FUNIL_ONBOARDING_PIPEDRIVE_stay_in_pipeline_stages_whoqol\":\"29770\",\"FUNIL_ONBOARDING_PIPEDRIVE_won_time\":null,\"FUNIL_ONBOARDING_PIPEDRIVE_lost_time\":null,\"FUNIL_ONBOARDING_PIPEDRIVE_lost_reason\":null,\"FUNIL_ONBOARDING_PIPEDRIVE_activities_count\":\"0\",\"ATENDIMENTOS_AGENDA_Qde Todos Atendimentos\":\"0\",\"ATENDIMENTOS_AGENDA_Faltas Todos Atendimento\":\"0\",\"ATENDIMENTOS_AGENDA_Qde Atendimento Médico\":null,\"ATENDIMENTOS_AGENDA_Faltas Atendimento Médico\":null,\"ATENDIMENTOS_AGENDA_Datas Atendimento Médico\":null,\"ATENDIMENTOS_AGENDA_Qde Atendimentos Acolhimento\":null,\"ATENDIMENTOS_AGENDA_Faltas Acolhimento\":null,\"ATENDIMENTOS_AGENDA_Datas Acolhimento\":null,\"ATENDIMENTOS_AGENDA_Qde Psicoterapia\":null,\"ATENDIMENTOS_AGENDA_Faltas Psicoterapia\":null,\"ATENDIMENTOS_AGENDA_Datas Psicoterapia\":null,\"ATENDIMENTOS_AGENDA_Qde Prescrições\":\"1\",\"ATENDIMENTOS_AGENDA_Datas Prescrição\":\"07\\\\/12\\\\/2021\",\"WHOQOL_Qde Respostas WHOQOL\":\"1\",\"WHOQOL_Físico\":\"4,00\",\"WHOQOL_Psicológico\":\"4\",\"WHOQOL_Social\":\"4\",\"WHOQOL_Ambiental\":\"5\",\"COMUNICARE_Problemas Abertos\":\"diabetes de tipo 2 T90 (CIAP-2); ansiedade P01 (CIAP-2); obesidade com imc>=30 T82 (CIAP-2); carência de vitamina D T91 (CIAP-2); saliva anormal A91 (CIAP-2)\",\"TWILIO_Mensagens Inbound\":\"74\",\"TWILIO_Data Última Mensagens Inbound\":\"2022-06-22 06:20:09\",\"TWILIO_Mensagens Outbound\":\"53\",\"TWILIO_Data Última Mensagens Outbound\":\"2022-08-23 11:36:44\",\"TWILIO_Ligações Inbound\":null,\"TWILIO_Data Última Ligações Inbound\":null,\"TWILIO_Ligações Outbound\":null,\"TWILIO_Data Última Ligações Outbound\":null,\"COBRANÇA_VINDI_Qde Total de Faturas\":null,\"COBRANÇA_VINDI_Qde Total de Tentativas de Cobrança\":null,\"COBRANÇA_VINDI_Método de Pagamento\":null,\"COBRANÇA_VINDI_Valor Médio da Mensalidade\":null,\"COBRANÇA_VINDI_Qde Total de Faturas Pagas após Vencimento\":null,\"COBRANÇA_VINDI_Qde Total de Faturas Inadimpletes\":null,\"COBRANÇA_VINDI_Valor Total Inadimplência\":null,\"COBRANÇA_VINDI_Qde Perfis de Pagamento Inativos\":null}]'"
      ]
     },
     "execution_count": 16,
     "metadata": {},
     "output_type": "execute_result"
    }
   ],
   "source": [
    "\n",
    "df_raw = pd.read_csv('../../data/dados_recentes.csv')\n",
    "# aceite acentos \n",
    "(pd.DataFrame(mergeHeader_Columns(df_raw).iloc[69,:]).T).to_json(force_ascii=False, index=False, orient='records')\n"
   ]
  },
  {
   "cell_type": "code",
   "execution_count": 17,
   "metadata": {},
   "outputs": [
    {
     "ename": "NameError",
     "evalue": "name 'null' is not defined",
     "output_type": "error",
     "traceback": [
      "\u001b[0;31m---------------------------------------------------------------------------\u001b[0m",
      "\u001b[0;31mNameError\u001b[0m                                 Traceback (most recent call last)",
      "\u001b[1;32m/Users/tomasalessi/Workspace/sprint4-support-vector-team/src/api/pipeline.ipynb Cell 6\u001b[0m line \u001b[0;36m1\n\u001b[0;32m----> <a href='vscode-notebook-cell:/Users/tomasalessi/Workspace/sprint4-support-vector-team/src/api/pipeline.ipynb#W6sZmlsZQ%3D%3D?line=0'>1</a>\u001b[0m {\u001b[39m\"\u001b[39m\u001b[39mPESSOA_PIPEDRIVE_id_person\u001b[39m\u001b[39m\"\u001b[39m:\u001b[39m\"\u001b[39m\u001b[39m1260\u001b[39m\u001b[39m\"\u001b[39m,\u001b[39m\"\u001b[39m\u001b[39mPESSOA_PIPEDRIVE_birthdate\u001b[39m\u001b[39m\"\u001b[39m:\u001b[39m\"\u001b[39m\u001b[39m1995-04-05\u001b[39m\u001b[39m\"\u001b[39m,\u001b[39m\"\u001b[39m\u001b[39mPESSOA_PIPEDRIVE_id_gender\u001b[39m\u001b[39m\"\u001b[39m:\u001b[39m\"\u001b[39m\u001b[39m63\u001b[39m\u001b[39m\"\u001b[39m,\u001b[39m\"\u001b[39m\u001b[39mPESSOA_PIPEDRIVE_id_marrital_status\u001b[39m\u001b[39m\"\u001b[39m:\u001b[39m\"\u001b[39m\u001b[39m80\u001b[39m\u001b[39m\"\u001b[39m,\u001b[39m\"\u001b[39m\u001b[39mPESSOA_PIPEDRIVE_state\u001b[39m\u001b[39m\"\u001b[39m:\u001b[39m\"\u001b[39m\u001b[39mSão Paulo\u001b[39m\u001b[39m\"\u001b[39m,\u001b[39m\"\u001b[39m\u001b[39mPESSOA_PIPEDRIVE_city\u001b[39m\u001b[39m\"\u001b[39m:\u001b[39m\"\u001b[39m\u001b[39mSão Carlos\u001b[39m\u001b[39m\"\u001b[39m,\u001b[39m\"\u001b[39m\u001b[39mPESSOA_PIPEDRIVE_postal_code\u001b[39m\u001b[39m\"\u001b[39m:\u001b[39m\"\u001b[39m\u001b[39m13560-470\u001b[39m\u001b[39m\"\u001b[39m,\u001b[39m\"\u001b[39m\u001b[39mPESSOA_PIPEDRIVE_id_health_plan\u001b[39m\u001b[39m\"\u001b[39m:\u001b[39m\"\u001b[39m\u001b[39m412\u001b[39m\u001b[39m\"\u001b[39m,\u001b[39m\"\u001b[39m\u001b[39mPESSOA_PIPEDRIVE_id_person_recommendation\u001b[39m\u001b[39m\"\u001b[39m:null,\u001b[39m\"\u001b[39m\u001b[39mPESSOA_PIPEDRIVE_contract_start_date\u001b[39m\u001b[39m\"\u001b[39m:\u001b[39m\"\u001b[39m\u001b[39m2021-08-12\u001b[39m\u001b[39m\"\u001b[39m,\u001b[39m\"\u001b[39m\u001b[39mPESSOA_PIPEDRIVE_contract_end_date\u001b[39m\u001b[39m\"\u001b[39m:\u001b[39m\"\u001b[39m\u001b[39m2022-09-11\u001b[39m\u001b[39m\"\u001b[39m,\u001b[39m\"\u001b[39m\u001b[39mPESSOA_PIPEDRIVE_id_continuity_pf\u001b[39m\u001b[39m\"\u001b[39m:\u001b[39m\"\u001b[39m\u001b[39m339\u001b[39m\u001b[39m\"\u001b[39m,\u001b[39m\"\u001b[39m\u001b[39mPESSOA_PIPEDRIVE_Canal de Preferência\u001b[39m\u001b[39m\"\u001b[39m:null,\u001b[39m\"\u001b[39m\u001b[39mPESSOA_PIPEDRIVE_notes_count\u001b[39m\u001b[39m\"\u001b[39m:\u001b[39m\"\u001b[39m\u001b[39m1\u001b[39m\u001b[39m\"\u001b[39m,\u001b[39m\"\u001b[39m\u001b[39mPESSOA_PIPEDRIVE_done_activities_count\u001b[39m\u001b[39m\"\u001b[39m:\u001b[39m\"\u001b[39m\u001b[39m3\u001b[39m\u001b[39m\"\u001b[39m,\u001b[39m\"\u001b[39m\u001b[39mPESSOA_PIPEDRIVE_Recebe Comunicados?\u001b[39m\u001b[39m\"\u001b[39m:null,\u001b[39m\"\u001b[39m\u001b[39mPESSOA_PIPEDRIVE_Interesses\u001b[39m\u001b[39m\"\u001b[39m:null,\u001b[39m\"\u001b[39m\u001b[39mPESSOA_PIPEDRIVE_Pontos de Atenção\u001b[39m\u001b[39m\"\u001b[39m:null,\u001b[39m\"\u001b[39m\u001b[39mFUNIL_ASSINATURA_PIPEDRIVE_id_stage\u001b[39m\u001b[39m\"\u001b[39m:\u001b[39m\"\u001b[39m\u001b[39m65\u001b[39m\u001b[39m\"\u001b[39m,\u001b[39m\"\u001b[39m\u001b[39mFUNIL_ASSINATURA_PIPEDRIVE_id_org\u001b[39m\u001b[39m\"\u001b[39m:\u001b[39m\"\u001b[39m\u001b[39m448\u001b[39m\u001b[39m\"\u001b[39m,\u001b[39m\"\u001b[39m\u001b[39mFUNIL_ASSINATURA_PIPEDRIVE_status\u001b[39m\u001b[39m\"\u001b[39m:\u001b[39m\"\u001b[39m\u001b[39mlost\u001b[39m\u001b[39m\"\u001b[39m,\u001b[39m\"\u001b[39m\u001b[39mFUNIL_ASSINATURA_PIPEDRIVE_start_of_service\u001b[39m\u001b[39m\"\u001b[39m:\u001b[39m\"\u001b[39m\u001b[39m2021-08-12\u001b[39m\u001b[39m\"\u001b[39m,\u001b[39m\"\u001b[39m\u001b[39mFUNIL_ASSINATURA_PIPEDRIVE_lost_time\u001b[39m\u001b[39m\"\u001b[39m:\u001b[39m\"\u001b[39m\u001b[39m2022-09-11 03:00:00\u001b[39m\u001b[39m\"\u001b[39m,\u001b[39m\"\u001b[39m\u001b[39mFUNIL_ASSINATURA_PIPEDRIVE_lost_reason\u001b[39m\u001b[39m\"\u001b[39m:\u001b[39m\"\u001b[39m\u001b[39m[Assinatura] Desligamento\u001b[39m\u001b[39m\"\u001b[39m,\u001b[39m\"\u001b[39m\u001b[39mFUNIL_ONBOARDING_PIPEDRIVE_add_time\u001b[39m\u001b[39m\"\u001b[39m:\u001b[39m\"\u001b[39m\u001b[39m2021-09-09 13:44:13\u001b[39m\u001b[39m\"\u001b[39m,\u001b[39m\"\u001b[39m\u001b[39mFUNIL_ONBOARDING_PIPEDRIVE_status\u001b[39m\u001b[39m\"\u001b[39m:\u001b[39m\"\u001b[39m\u001b[39mopen\u001b[39m\u001b[39m\"\u001b[39m,\u001b[39m\"\u001b[39m\u001b[39mFUNIL_ONBOARDING_PIPEDRIVE_id_label\u001b[39m\u001b[39m\"\u001b[39m:\u001b[39m\"\u001b[39m\u001b[39m325\u001b[39m\u001b[39m\"\u001b[39m,\u001b[39m\"\u001b[39m\u001b[39mFUNIL_ONBOARDING_PIPEDRIVE_stay_in_pipeline_stages_welcome\u001b[39m\u001b[39m\"\u001b[39m:\u001b[39m\"\u001b[39m\u001b[39m0\u001b[39m\u001b[39m\"\u001b[39m,\u001b[39m\"\u001b[39m\u001b[39mFUNIL_ONBOARDING_PIPEDRIVE_stay_in_pipeline_stages_first_meeting\u001b[39m\u001b[39m\"\u001b[39m:\u001b[39m\"\u001b[39m\u001b[39m0\u001b[39m\u001b[39m\"\u001b[39m,\u001b[39m\"\u001b[39m\u001b[39mFUNIL_ONBOARDING_PIPEDRIVE_stay_in_pipeline_stages_whoqol\u001b[39m\u001b[39m\"\u001b[39m:\u001b[39m\"\u001b[39m\u001b[39m29770\u001b[39m\u001b[39m\"\u001b[39m,\u001b[39m\"\u001b[39m\u001b[39mFUNIL_ONBOARDING_PIPEDRIVE_won_time\u001b[39m\u001b[39m\"\u001b[39m:null,\u001b[39m\"\u001b[39m\u001b[39mFUNIL_ONBOARDING_PIPEDRIVE_lost_time\u001b[39m\u001b[39m\"\u001b[39m:null,\u001b[39m\"\u001b[39m\u001b[39mFUNIL_ONBOARDING_PIPEDRIVE_lost_reason\u001b[39m\u001b[39m\"\u001b[39m:null,\u001b[39m\"\u001b[39m\u001b[39mFUNIL_ONBOARDING_PIPEDRIVE_activities_count\u001b[39m\u001b[39m\"\u001b[39m:\u001b[39m\"\u001b[39m\u001b[39m0\u001b[39m\u001b[39m\"\u001b[39m,\u001b[39m\"\u001b[39m\u001b[39mATENDIMENTOS_AGENDA_Qde Todos Atendimentos\u001b[39m\u001b[39m\"\u001b[39m:\u001b[39m\"\u001b[39m\u001b[39m0\u001b[39m\u001b[39m\"\u001b[39m,\u001b[39m\"\u001b[39m\u001b[39mATENDIMENTOS_AGENDA_Faltas Todos Atendimento\u001b[39m\u001b[39m\"\u001b[39m:\u001b[39m\"\u001b[39m\u001b[39m0\u001b[39m\u001b[39m\"\u001b[39m,\u001b[39m\"\u001b[39m\u001b[39mATENDIMENTOS_AGENDA_Qde Atendimento Médico\u001b[39m\u001b[39m\"\u001b[39m:null,\u001b[39m\"\u001b[39m\u001b[39mATENDIMENTOS_AGENDA_Faltas Atendimento Médico\u001b[39m\u001b[39m\"\u001b[39m:null,\u001b[39m\"\u001b[39m\u001b[39mATENDIMENTOS_AGENDA_Datas Atendimento Médico\u001b[39m\u001b[39m\"\u001b[39m:null,\u001b[39m\"\u001b[39m\u001b[39mATENDIMENTOS_AGENDA_Qde Atendimentos Acolhimento\u001b[39m\u001b[39m\"\u001b[39m:null,\u001b[39m\"\u001b[39m\u001b[39mATENDIMENTOS_AGENDA_Faltas Acolhimento\u001b[39m\u001b[39m\"\u001b[39m:null,\u001b[39m\"\u001b[39m\u001b[39mATENDIMENTOS_AGENDA_Datas Acolhimento\u001b[39m\u001b[39m\"\u001b[39m:null,\u001b[39m\"\u001b[39m\u001b[39mATENDIMENTOS_AGENDA_Qde Psicoterapia\u001b[39m\u001b[39m\"\u001b[39m:null,\u001b[39m\"\u001b[39m\u001b[39mATENDIMENTOS_AGENDA_Faltas Psicoterapia\u001b[39m\u001b[39m\"\u001b[39m:null,\u001b[39m\"\u001b[39m\u001b[39mATENDIMENTOS_AGENDA_Datas Psicoterapia\u001b[39m\u001b[39m\"\u001b[39m:null,\u001b[39m\"\u001b[39m\u001b[39mATENDIMENTOS_AGENDA_Qde Prescrições\u001b[39m\u001b[39m\"\u001b[39m:\u001b[39m\"\u001b[39m\u001b[39m1\u001b[39m\u001b[39m\"\u001b[39m,\u001b[39m\"\u001b[39m\u001b[39mATENDIMENTOS_AGENDA_Datas Prescrição\u001b[39m\u001b[39m\"\u001b[39m:\u001b[39m\"\u001b[39m\u001b[39m07\u001b[39m\u001b[39m\\\\\u001b[39;00m\u001b[39m/12\u001b[39m\u001b[39m\\\\\u001b[39;00m\u001b[39m/2021\u001b[39m\u001b[39m\"\u001b[39m,\u001b[39m\"\u001b[39m\u001b[39mWHOQOL_Qde Respostas WHOQOL\u001b[39m\u001b[39m\"\u001b[39m:\u001b[39m\"\u001b[39m\u001b[39m1\u001b[39m\u001b[39m\"\u001b[39m,\u001b[39m\"\u001b[39m\u001b[39mWHOQOL_Físico\u001b[39m\u001b[39m\"\u001b[39m:\u001b[39m\"\u001b[39m\u001b[39m4,00\u001b[39m\u001b[39m\"\u001b[39m,\u001b[39m\"\u001b[39m\u001b[39mWHOQOL_Psicológico\u001b[39m\u001b[39m\"\u001b[39m:\u001b[39m\"\u001b[39m\u001b[39m4\u001b[39m\u001b[39m\"\u001b[39m,\u001b[39m\"\u001b[39m\u001b[39mWHOQOL_Social\u001b[39m\u001b[39m\"\u001b[39m:\u001b[39m\"\u001b[39m\u001b[39m4\u001b[39m\u001b[39m\"\u001b[39m,\u001b[39m\"\u001b[39m\u001b[39mWHOQOL_Ambiental\u001b[39m\u001b[39m\"\u001b[39m:\u001b[39m\"\u001b[39m\u001b[39m5\u001b[39m\u001b[39m\"\u001b[39m,\u001b[39m\"\u001b[39m\u001b[39mCOMUNICARE_Problemas Abertos\u001b[39m\u001b[39m\"\u001b[39m:\u001b[39m\"\u001b[39m\u001b[39mdiabetes de tipo 2 T90 (CIAP-2); ansiedade P01 (CIAP-2); obesidade com imc>=30 T82 (CIAP-2); carência de vitamina D T91 (CIAP-2); saliva anormal A91 (CIAP-2)\u001b[39m\u001b[39m\"\u001b[39m,\u001b[39m\"\u001b[39m\u001b[39mTWILIO_Mensagens Inbound\u001b[39m\u001b[39m\"\u001b[39m:\u001b[39m\"\u001b[39m\u001b[39m74\u001b[39m\u001b[39m\"\u001b[39m,\u001b[39m\"\u001b[39m\u001b[39mTWILIO_Data Última Mensagens Inbound\u001b[39m\u001b[39m\"\u001b[39m:\u001b[39m\"\u001b[39m\u001b[39m2022-06-22 06:20:09\u001b[39m\u001b[39m\"\u001b[39m,\u001b[39m\"\u001b[39m\u001b[39mTWILIO_Mensagens Outbound\u001b[39m\u001b[39m\"\u001b[39m:\u001b[39m\"\u001b[39m\u001b[39m53\u001b[39m\u001b[39m\"\u001b[39m,\u001b[39m\"\u001b[39m\u001b[39mTWILIO_Data Última Mensagens Outbound\u001b[39m\u001b[39m\"\u001b[39m:\u001b[39m\"\u001b[39m\u001b[39m2022-08-23 11:36:44\u001b[39m\u001b[39m\"\u001b[39m,\u001b[39m\"\u001b[39m\u001b[39mTWILIO_Ligações Inbound\u001b[39m\u001b[39m\"\u001b[39m:null,\u001b[39m\"\u001b[39m\u001b[39mTWILIO_Data Última Ligações Inbound\u001b[39m\u001b[39m\"\u001b[39m:null,\u001b[39m\"\u001b[39m\u001b[39mTWILIO_Ligações Outbound\u001b[39m\u001b[39m\"\u001b[39m:null,\u001b[39m\"\u001b[39m\u001b[39mTWILIO_Data Última Ligações Outbound\u001b[39m\u001b[39m\"\u001b[39m:null,\u001b[39m\"\u001b[39m\u001b[39mCOBRANÇA_VINDI_Qde Total de Faturas\u001b[39m\u001b[39m\"\u001b[39m:null,\u001b[39m\"\u001b[39m\u001b[39mCOBRANÇA_VINDI_Qde Total de Tentativas de Cobrança\u001b[39m\u001b[39m\"\u001b[39m:null,\u001b[39m\"\u001b[39m\u001b[39mCOBRANÇA_VINDI_Método de Pagamento\u001b[39m\u001b[39m\"\u001b[39m:null,\u001b[39m\"\u001b[39m\u001b[39mCOBRANÇA_VINDI_Valor Médio da Mensalidade\u001b[39m\u001b[39m\"\u001b[39m:null,\u001b[39m\"\u001b[39m\u001b[39mCOBRANÇA_VINDI_Qde Total de Faturas Pagas após Vencimento\u001b[39m\u001b[39m\"\u001b[39m:null,\u001b[39m\"\u001b[39m\u001b[39mCOBRANÇA_VINDI_Qde Total de Faturas Inadimpletes\u001b[39m\u001b[39m\"\u001b[39m:null,\u001b[39m\"\u001b[39m\u001b[39mCOBRANÇA_VINDI_Valor Total Inadimplência\u001b[39m\u001b[39m\"\u001b[39m:null,\u001b[39m\"\u001b[39m\u001b[39mCOBRANÇA_VINDI_Qde Perfis de Pagamento Inativos\u001b[39m\u001b[39m\"\u001b[39m:null}\n",
      "\u001b[0;31mNameError\u001b[0m: name 'null' is not defined"
     ]
    }
   ],
   "source": [
    "{\"PESSOA_PIPEDRIVE_id_person\":\"1260\",\"PESSOA_PIPEDRIVE_birthdate\":\"1995-04-05\",\"PESSOA_PIPEDRIVE_id_gender\":\"63\",\"PESSOA_PIPEDRIVE_id_marrital_status\":\"80\",\"PESSOA_PIPEDRIVE_state\":\"São Paulo\",\"PESSOA_PIPEDRIVE_city\":\"São Carlos\",\"PESSOA_PIPEDRIVE_postal_code\":\"13560-470\",\"PESSOA_PIPEDRIVE_id_health_plan\":\"412\",\"PESSOA_PIPEDRIVE_id_person_recommendation\":null,\"PESSOA_PIPEDRIVE_contract_start_date\":\"2021-08-12\",\"PESSOA_PIPEDRIVE_contract_end_date\":\"2022-09-11\",\"PESSOA_PIPEDRIVE_id_continuity_pf\":\"339\",\"PESSOA_PIPEDRIVE_Canal de Preferência\":null,\"PESSOA_PIPEDRIVE_notes_count\":\"1\",\"PESSOA_PIPEDRIVE_done_activities_count\":\"3\",\"PESSOA_PIPEDRIVE_Recebe Comunicados?\":null,\"PESSOA_PIPEDRIVE_Interesses\":null,\"PESSOA_PIPEDRIVE_Pontos de Atenção\":null,\"FUNIL_ASSINATURA_PIPEDRIVE_id_stage\":\"65\",\"FUNIL_ASSINATURA_PIPEDRIVE_id_org\":\"448\",\"FUNIL_ASSINATURA_PIPEDRIVE_status\":\"lost\",\"FUNIL_ASSINATURA_PIPEDRIVE_start_of_service\":\"2021-08-12\",\"FUNIL_ASSINATURA_PIPEDRIVE_lost_time\":\"2022-09-11 03:00:00\",\"FUNIL_ASSINATURA_PIPEDRIVE_lost_reason\":\"[Assinatura] Desligamento\",\"FUNIL_ONBOARDING_PIPEDRIVE_add_time\":\"2021-09-09 13:44:13\",\"FUNIL_ONBOARDING_PIPEDRIVE_status\":\"open\",\"FUNIL_ONBOARDING_PIPEDRIVE_id_label\":\"325\",\"FUNIL_ONBOARDING_PIPEDRIVE_stay_in_pipeline_stages_welcome\":\"0\",\"FUNIL_ONBOARDING_PIPEDRIVE_stay_in_pipeline_stages_first_meeting\":\"0\",\"FUNIL_ONBOARDING_PIPEDRIVE_stay_in_pipeline_stages_whoqol\":\"29770\",\"FUNIL_ONBOARDING_PIPEDRIVE_won_time\":null,\"FUNIL_ONBOARDING_PIPEDRIVE_lost_time\":null,\"FUNIL_ONBOARDING_PIPEDRIVE_lost_reason\":null,\"FUNIL_ONBOARDING_PIPEDRIVE_activities_count\":\"0\",\"ATENDIMENTOS_AGENDA_Qde Todos Atendimentos\":\"0\",\"ATENDIMENTOS_AGENDA_Faltas Todos Atendimento\":\"0\",\"ATENDIMENTOS_AGENDA_Qde Atendimento Médico\":null,\"ATENDIMENTOS_AGENDA_Faltas Atendimento Médico\":null,\"ATENDIMENTOS_AGENDA_Datas Atendimento Médico\":null,\"ATENDIMENTOS_AGENDA_Qde Atendimentos Acolhimento\":null,\"ATENDIMENTOS_AGENDA_Faltas Acolhimento\":null,\"ATENDIMENTOS_AGENDA_Datas Acolhimento\":null,\"ATENDIMENTOS_AGENDA_Qde Psicoterapia\":null,\"ATENDIMENTOS_AGENDA_Faltas Psicoterapia\":null,\"ATENDIMENTOS_AGENDA_Datas Psicoterapia\":null,\"ATENDIMENTOS_AGENDA_Qde Prescrições\":\"1\",\"ATENDIMENTOS_AGENDA_Datas Prescrição\":\"07\\\\/12\\\\/2021\",\"WHOQOL_Qde Respostas WHOQOL\":\"1\",\"WHOQOL_Físico\":\"4,00\",\"WHOQOL_Psicológico\":\"4\",\"WHOQOL_Social\":\"4\",\"WHOQOL_Ambiental\":\"5\",\"COMUNICARE_Problemas Abertos\":\"diabetes de tipo 2 T90 (CIAP-2); ansiedade P01 (CIAP-2); obesidade com imc>=30 T82 (CIAP-2); carência de vitamina D T91 (CIAP-2); saliva anormal A91 (CIAP-2)\",\"TWILIO_Mensagens Inbound\":\"74\",\"TWILIO_Data Última Mensagens Inbound\":\"2022-06-22 06:20:09\",\"TWILIO_Mensagens Outbound\":\"53\",\"TWILIO_Data Última Mensagens Outbound\":\"2022-08-23 11:36:44\",\"TWILIO_Ligações Inbound\":null,\"TWILIO_Data Última Ligações Inbound\":null,\"TWILIO_Ligações Outbound\":null,\"TWILIO_Data Última Ligações Outbound\":null,\"COBRANÇA_VINDI_Qde Total de Faturas\":null,\"COBRANÇA_VINDI_Qde Total de Tentativas de Cobrança\":null,\"COBRANÇA_VINDI_Método de Pagamento\":null,\"COBRANÇA_VINDI_Valor Médio da Mensalidade\":null,\"COBRANÇA_VINDI_Qde Total de Faturas Pagas após Vencimento\":null,\"COBRANÇA_VINDI_Qde Total de Faturas Inadimpletes\":null,\"COBRANÇA_VINDI_Valor Total Inadimplência\":null,\"COBRANÇA_VINDI_Qde Perfis de Pagamento Inativos\":null}"
   ]
  }
 ],
 "metadata": {
  "kernelspec": {
   "display_name": "env",
   "language": "python",
   "name": "python3"
  },
  "language_info": {
   "codemirror_mode": {
    "name": "ipython",
    "version": 3
   },
   "file_extension": ".py",
   "mimetype": "text/x-python",
   "name": "python",
   "nbconvert_exporter": "python",
   "pygments_lexer": "ipython3",
   "version": "3.11.3"
  }
 },
 "nbformat": 4,
 "nbformat_minor": 2
}
